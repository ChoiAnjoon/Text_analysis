{
 "cells": [
  {
   "cell_type": "code",
   "execution_count": 1,
   "metadata": {},
   "outputs": [],
   "source": [
    "# 키위 설치 \n",
    "# !pip install kiwipiepy"
   ]
  },
  {
   "cell_type": "code",
   "execution_count": 2,
   "metadata": {},
   "outputs": [],
   "source": [
    "from kiwipiepy import Kiwi"
   ]
  },
  {
   "cell_type": "code",
   "execution_count": 3,
   "metadata": {},
   "outputs": [],
   "source": [
    "# 형태소 분석기 초기화 \n",
    "kiwi = Kiwi()"
   ]
  },
  {
   "cell_type": "code",
   "execution_count": 4,
   "metadata": {},
   "outputs": [
    {
     "data": {
      "text/plain": [
       "0"
      ]
     },
     "execution_count": 4,
     "metadata": {},
     "output_type": "execute_result"
    }
   ],
   "source": [
    "# kiwi를 쓰기위해 무조껀 준비해야할 코드 \n",
    "kiwi.prepare()"
   ]
  },
  {
   "cell_type": "code",
   "execution_count": 6,
   "metadata": {},
   "outputs": [],
   "source": [
    "text = '오늘은 자연어 처리를 배우기 좋은 날이다. 자연어 처리는 재미있다.'"
   ]
  },
  {
   "cell_type": "code",
   "execution_count": 7,
   "metadata": {},
   "outputs": [],
   "source": [
    "result = kiwi.analyze(text)"
   ]
  },
  {
   "cell_type": "code",
   "execution_count": 11,
   "metadata": {},
   "outputs": [
    {
     "data": {
      "text/plain": [
       "([('오늘', 'NNG', 0, 2),\n",
       "  ('은', 'JX', 2, 1),\n",
       "  ('자연어', 'NNP', 4, 3),\n",
       "  ('처리', 'NNG', 8, 2),\n",
       "  ('를', 'JKO', 10, 1),\n",
       "  ('배우', 'VV', 12, 2),\n",
       "  ('기', 'ETN', 14, 1),\n",
       "  ('좋', 'VA', 16, 1),\n",
       "  ('은', 'ETM', 17, 1),\n",
       "  ('날', 'NNG', 19, 1),\n",
       "  ('이', 'VCP', 20, 1),\n",
       "  ('다', 'EF', 21, 1),\n",
       "  ('.', 'SF', 22, 1),\n",
       "  ('자연어', 'NNP', 24, 3),\n",
       "  ('처리', 'NNG', 28, 2),\n",
       "  ('는', 'JX', 30, 1),\n",
       "  ('재미있', 'VA', 32, 3),\n",
       "  ('다', 'EF', 35, 1),\n",
       "  ('.', 'SF', 36, 1)],\n",
       " -106.402587890625)"
      ]
     },
     "execution_count": 11,
     "metadata": {},
     "output_type": "execute_result"
    }
   ],
   "source": [
    "result[0]"
   ]
  },
  {
   "cell_type": "code",
   "execution_count": 10,
   "metadata": {},
   "outputs": [
    {
     "data": {
      "text/plain": [
       "[('오늘', 'NNG', 0, 2),\n",
       " ('은', 'JX', 2, 1),\n",
       " ('자연어', 'NNP', 4, 3),\n",
       " ('처리', 'NNG', 8, 2),\n",
       " ('를', 'JKO', 10, 1),\n",
       " ('배우', 'VV', 12, 2),\n",
       " ('기', 'ETN', 14, 1),\n",
       " ('좋', 'VA', 16, 1),\n",
       " ('은', 'ETM', 17, 1),\n",
       " ('날', 'NNG', 19, 1),\n",
       " ('이', 'VCP', 20, 1),\n",
       " ('다', 'EF', 21, 1),\n",
       " ('.', 'SF', 22, 1),\n",
       " ('자연어', 'NNP', 24, 3),\n",
       " ('처리', 'NNG', 28, 2),\n",
       " ('는', 'JX', 30, 1),\n",
       " ('재미있', 'VA', 32, 3),\n",
       " ('다', 'EF', 35, 1),\n",
       " ('.', 'SF', 36, 1)]"
      ]
     },
     "execution_count": 10,
     "metadata": {},
     "output_type": "execute_result"
    }
   ],
   "source": [
    "result[0][0]"
   ]
  },
  {
   "cell_type": "code",
   "execution_count": 14,
   "metadata": {},
   "outputs": [
    {
     "name": "stdout",
     "output_type": "stream",
     "text": [
      "오늘\n",
      "자연어\n",
      "처리\n",
      "날\n",
      "자연어\n",
      "처리\n"
     ]
    }
   ],
   "source": [
    "for token, pos, _, _ in result[0][0]:\n",
    "    if pos.startswith('N'):\n",
    "        print(token)"
   ]
  },
  {
   "cell_type": "code",
   "execution_count": 15,
   "metadata": {},
   "outputs": [],
   "source": [
    "# 명사를 추출하는 함수 만들기 \n",
    "def extract_noun(text):\n",
    "    nouns = []\n",
    "    result = kiwi.analyze(text)\n",
    "    for token, pos, _, _ in result[0][0]:\n",
    "        if pos.startswith('N'):\n",
    "            nouns.append(token)\n",
    "    return nouns"
   ]
  },
  {
   "cell_type": "code",
   "execution_count": 16,
   "metadata": {},
   "outputs": [],
   "source": [
    "# 명사를 추출하는 함수 만들기  yield 함수 활용 \n",
    "def extract_noun(text):\n",
    "    result = kiwi.analyze(text)\n",
    "    for token, pos, _, _ in result[0][0]:\n",
    "        if pos.startswith('N'):\n",
    "            yield token"
   ]
  },
  {
   "cell_type": "code",
   "execution_count": 19,
   "metadata": {},
   "outputs": [
    {
     "data": {
      "text/plain": [
       "['어제', '홍차', '오늘', '커피']"
      ]
     },
     "execution_count": 19,
     "metadata": {},
     "output_type": "execute_result"
    }
   ],
   "source": [
    "list(extract_noun('어제는 홍차를 마시고, 오늘은 커피를 마셨다.'))"
   ]
  },
  {
   "cell_type": "code",
   "execution_count": null,
   "metadata": {},
   "outputs": [],
   "source": []
  }
 ],
 "metadata": {
  "kernelspec": {
   "display_name": "Python 3",
   "language": "python",
   "name": "python3"
  },
  "language_info": {
   "codemirror_mode": {
    "name": "ipython",
    "version": 3
   },
   "file_extension": ".py",
   "mimetype": "text/x-python",
   "name": "python",
   "nbconvert_exporter": "python",
   "pygments_lexer": "ipython3",
   "version": "3.7.9"
  }
 },
 "nbformat": 4,
 "nbformat_minor": 4
}
