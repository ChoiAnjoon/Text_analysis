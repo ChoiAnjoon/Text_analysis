{
 "cells": [
  {
   "cell_type": "code",
   "execution_count": 2,
   "metadata": {},
   "outputs": [],
   "source": [
    "import stanza"
   ]
  },
  {
   "cell_type": "code",
   "execution_count": 3,
   "metadata": {},
   "outputs": [
    {
     "name": "stderr",
     "output_type": "stream",
     "text": [
      "2021-03-29 16:02:18 INFO: Loading these models for language: ko (Korean):\n",
      "=======================\n",
      "| Processor | Package |\n",
      "-----------------------\n",
      "| tokenize  | kaist   |\n",
      "| pos       | kaist   |\n",
      "| lemma     | kaist   |\n",
      "| depparse  | kaist   |\n",
      "=======================\n",
      "\n",
      "2021-03-29 16:02:18 INFO: Use device: cpu\n",
      "2021-03-29 16:02:18 INFO: Loading: tokenize\n",
      "2021-03-29 16:02:18 INFO: Loading: pos\n",
      "2021-03-29 16:02:18 INFO: Loading: lemma\n",
      "2021-03-29 16:02:18 INFO: Loading: depparse\n",
      "2021-03-29 16:02:19 INFO: Done loading processors!\n"
     ]
    }
   ],
   "source": [
    "nlp = stanza.Pipeline('ko')"
   ]
  },
  {
   "cell_type": "code",
   "execution_count": 4,
   "metadata": {},
   "outputs": [],
   "source": [
    "text = '오늘 커피를 마셨다.'"
   ]
  },
  {
   "cell_type": "code",
   "execution_count": 5,
   "metadata": {},
   "outputs": [],
   "source": [
    "doc = nlp(text)"
   ]
  },
  {
   "cell_type": "code",
   "execution_count": 7,
   "metadata": {},
   "outputs": [
    {
     "data": {
      "text/plain": [
       "[[\n",
       "   {\n",
       "     \"id\": 1,\n",
       "     \"text\": \"오늘\",\n",
       "     \"lemma\": \"오늘\",\n",
       "     \"upos\": \"NOUN\",\n",
       "     \"xpos\": \"ncn\",\n",
       "     \"head\": 3,\n",
       "     \"deprel\": \"advmod\",\n",
       "     \"misc\": \"start_char=0|end_char=2\"\n",
       "   },\n",
       "   {\n",
       "     \"id\": 2,\n",
       "     \"text\": \"커피를\",\n",
       "     \"lemma\": \"커피+를\",\n",
       "     \"upos\": \"NOUN\",\n",
       "     \"xpos\": \"ncn+jco\",\n",
       "     \"head\": 3,\n",
       "     \"deprel\": \"obj\",\n",
       "     \"misc\": \"start_char=3|end_char=6\"\n",
       "   },\n",
       "   {\n",
       "     \"id\": 3,\n",
       "     \"text\": \"마셨다\",\n",
       "     \"lemma\": \"마시+었+다\",\n",
       "     \"upos\": \"VERB\",\n",
       "     \"xpos\": \"pvg+ep+ef\",\n",
       "     \"head\": 0,\n",
       "     \"deprel\": \"root\",\n",
       "     \"misc\": \"start_char=7|end_char=10\"\n",
       "   },\n",
       "   {\n",
       "     \"id\": 4,\n",
       "     \"text\": \".\",\n",
       "     \"lemma\": \".\",\n",
       "     \"upos\": \"PUNCT\",\n",
       "     \"xpos\": \"sf\",\n",
       "     \"head\": 3,\n",
       "     \"deprel\": \"punct\",\n",
       "     \"misc\": \"start_char=10|end_char=11\"\n",
       "   }\n",
       " ]]"
      ]
     },
     "execution_count": 7,
     "metadata": {},
     "output_type": "execute_result"
    }
   ],
   "source": [
    "doc.sentences"
   ]
  },
  {
   "cell_type": "code",
   "execution_count": 10,
   "metadata": {},
   "outputs": [
    {
     "name": "stdout",
     "output_type": "stream",
     "text": [
      "오늘 ncn\n",
      "커피 ncn\n",
      "를 jco\n",
      "마시 pvg\n",
      "었 ep\n",
      "다 ef\n",
      ". sf\n"
     ]
    }
   ],
   "source": [
    "for sentence in doc.sentences:\n",
    "    for word in sentence.words:\n",
    "        lemma = word.lemma.split('+')\n",
    "        pos = word.xpos.split('+')\n",
    "        for tok, pos in zip(lemma, pos):\n",
    "            print(tok,pos)"
   ]
  },
  {
   "cell_type": "code",
   "execution_count": 12,
   "metadata": {},
   "outputs": [
    {
     "name": "stdout",
     "output_type": "stream",
     "text": [
      "오늘\n",
      "커피\n"
     ]
    }
   ],
   "source": [
    "for sentence in doc.sentences:\n",
    "    for word in sentence.words:\n",
    "        lemma = word.lemma.split('+')\n",
    "        pos = word.xpos.split('+')\n",
    "        for tok, pos in zip(lemma, pos):\n",
    "            if pos.startswith('n'):\n",
    "                print(tok)"
   ]
  },
  {
   "cell_type": "code",
   "execution_count": 17,
   "metadata": {},
   "outputs": [],
   "source": [
    "# 명사추출하는 것을 함수로 만들기 \n",
    "def extract_noun(text):\n",
    "    doc = nlp(text)\n",
    "    nouns = []\n",
    "    for sentence in doc.sentences:\n",
    "        for word in sentence.words:\n",
    "            lemma = word.lemma.split('+')\n",
    "            pos = word.xpos.split('+')\n",
    "            for tok, pos in zip(lemma, pos):\n",
    "                if pos.startswith('n'):\n",
    "                    nouns.append(tok)\n",
    "    return nouns"
   ]
  },
  {
   "cell_type": "code",
   "execution_count": 18,
   "metadata": {},
   "outputs": [
    {
     "data": {
      "text/plain": [
       "['편의점', '커피']"
      ]
     },
     "execution_count": 18,
     "metadata": {},
     "output_type": "execute_result"
    }
   ],
   "source": [
    "extract_noun('편의점에서 커피를 샀다.')"
   ]
  },
  {
   "cell_type": "code",
   "execution_count": 19,
   "metadata": {},
   "outputs": [],
   "source": [
    "# 명사추출하는 것을 함수로 만들기 \n",
    "def extract_noun(text):\n",
    "    doc = nlp(text)\n",
    "    for sentence in doc.sentences:\n",
    "        for word in sentence.words:\n",
    "            lemma = word.lemma.split('+')\n",
    "            pos = word.xpos.split('+')\n",
    "            for tok, pos in zip(lemma, pos):\n",
    "                if pos.startswith('n'):\n",
    "                    yield tok"
   ]
  },
  {
   "cell_type": "code",
   "execution_count": 20,
   "metadata": {},
   "outputs": [
    {
     "data": {
      "text/plain": [
       "<generator object extract_noun at 0x000001C6E7BF4AC8>"
      ]
     },
     "execution_count": 20,
     "metadata": {},
     "output_type": "execute_result"
    }
   ],
   "source": [
    "extract_noun('편의점에서 커피를 샀다.')"
   ]
  },
  {
   "cell_type": "code",
   "execution_count": 21,
   "metadata": {},
   "outputs": [
    {
     "data": {
      "text/plain": [
       "['편의점', '커피']"
      ]
     },
     "execution_count": 21,
     "metadata": {},
     "output_type": "execute_result"
    }
   ],
   "source": [
    "list(extract_noun('편의점에서 커피를 샀다.'))"
   ]
  }
 ],
 "metadata": {
  "kernelspec": {
   "display_name": "Python 3",
   "language": "python",
   "name": "python3"
  },
  "language_info": {
   "codemirror_mode": {
    "name": "ipython",
    "version": 3
   },
   "file_extension": ".py",
   "mimetype": "text/x-python",
   "name": "python",
   "nbconvert_exporter": "python",
   "pygments_lexer": "ipython3",
   "version": "3.7.9"
  }
 },
 "nbformat": 4,
 "nbformat_minor": 4
}
