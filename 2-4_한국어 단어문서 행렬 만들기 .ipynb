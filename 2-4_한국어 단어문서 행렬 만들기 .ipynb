{
 "cells": [
  {
   "cell_type": "code",
   "execution_count": 2,
   "metadata": {},
   "outputs": [],
   "source": [
    "import requests\n",
    "\n",
    "res = requests.get('https://github.com/e9t/nsmc/raw/master/ratings_train.txt')\n",
    "\n",
    "with open('nsmc_train.csv', 'wb') as f:\n",
    "    f.write(res.content)"
   ]
  },
  {
   "cell_type": "code",
   "execution_count": 3,
   "metadata": {},
   "outputs": [],
   "source": [
    "import pandas as pd \n",
    "nsmc = pd.read_csv('nsmc_train.csv', sep='\\t')"
   ]
  },
  {
   "cell_type": "code",
   "execution_count": 5,
   "metadata": {},
   "outputs": [
    {
     "data": {
      "text/html": [
       "<div>\n",
       "<style scoped>\n",
       "    .dataframe tbody tr th:only-of-type {\n",
       "        vertical-align: middle;\n",
       "    }\n",
       "\n",
       "    .dataframe tbody tr th {\n",
       "        vertical-align: top;\n",
       "    }\n",
       "\n",
       "    .dataframe thead th {\n",
       "        text-align: right;\n",
       "    }\n",
       "</style>\n",
       "<table border=\"1\" class=\"dataframe\">\n",
       "  <thead>\n",
       "    <tr style=\"text-align: right;\">\n",
       "      <th></th>\n",
       "      <th>id</th>\n",
       "      <th>document</th>\n",
       "      <th>label</th>\n",
       "    </tr>\n",
       "  </thead>\n",
       "  <tbody>\n",
       "    <tr>\n",
       "      <th>0</th>\n",
       "      <td>9976970</td>\n",
       "      <td>아 더빙.. 진짜 짜증나네요 목소리</td>\n",
       "      <td>0</td>\n",
       "    </tr>\n",
       "    <tr>\n",
       "      <th>1</th>\n",
       "      <td>3819312</td>\n",
       "      <td>흠...포스터보고 초딩영화줄....오버연기조차 가볍지 않구나</td>\n",
       "      <td>1</td>\n",
       "    </tr>\n",
       "    <tr>\n",
       "      <th>2</th>\n",
       "      <td>10265843</td>\n",
       "      <td>너무재밓었다그래서보는것을추천한다</td>\n",
       "      <td>0</td>\n",
       "    </tr>\n",
       "    <tr>\n",
       "      <th>3</th>\n",
       "      <td>9045019</td>\n",
       "      <td>교도소 이야기구먼 ..솔직히 재미는 없다..평점 조정</td>\n",
       "      <td>0</td>\n",
       "    </tr>\n",
       "    <tr>\n",
       "      <th>4</th>\n",
       "      <td>6483659</td>\n",
       "      <td>사이몬페그의 익살스런 연기가 돋보였던 영화!스파이더맨에서 늙어보이기만 했던 커스틴 ...</td>\n",
       "      <td>1</td>\n",
       "    </tr>\n",
       "  </tbody>\n",
       "</table>\n",
       "</div>"
      ],
      "text/plain": [
       "         id                                           document  label\n",
       "0   9976970                                아 더빙.. 진짜 짜증나네요 목소리      0\n",
       "1   3819312                  흠...포스터보고 초딩영화줄....오버연기조차 가볍지 않구나      1\n",
       "2  10265843                                  너무재밓었다그래서보는것을추천한다      0\n",
       "3   9045019                      교도소 이야기구먼 ..솔직히 재미는 없다..평점 조정      0\n",
       "4   6483659  사이몬페그의 익살스런 연기가 돋보였던 영화!스파이더맨에서 늙어보이기만 했던 커스틴 ...      1"
      ]
     },
     "execution_count": 5,
     "metadata": {},
     "output_type": "execute_result"
    }
   ],
   "source": [
    "# 0은 부정 1은 긍정\n",
    "nsmc.head()"
   ]
  },
  {
   "cell_type": "code",
   "execution_count": null,
   "metadata": {},
   "outputs": [],
   "source": [
    "# 보통 일반적으로 명사만 뽑아냄.. "
   ]
  },
  {
   "cell_type": "code",
   "execution_count": 6,
   "metadata": {},
   "outputs": [],
   "source": [
    "import stanza"
   ]
  },
  {
   "cell_type": "code",
   "execution_count": 7,
   "metadata": {},
   "outputs": [
    {
     "name": "stderr",
     "output_type": "stream",
     "text": [
      "2021-03-29 16:38:10 INFO: Loading these models for language: ko (Korean):\n",
      "=======================\n",
      "| Processor | Package |\n",
      "-----------------------\n",
      "| tokenize  | kaist   |\n",
      "| pos       | kaist   |\n",
      "| lemma     | kaist   |\n",
      "| depparse  | kaist   |\n",
      "=======================\n",
      "\n",
      "2021-03-29 16:38:10 INFO: Use device: cpu\n",
      "2021-03-29 16:38:10 INFO: Loading: tokenize\n",
      "2021-03-29 16:38:10 INFO: Loading: pos\n",
      "2021-03-29 16:38:10 INFO: Loading: lemma\n",
      "2021-03-29 16:38:10 INFO: Loading: depparse\n",
      "2021-03-29 16:38:11 INFO: Done loading processors!\n"
     ]
    }
   ],
   "source": [
    "nlp = stanza.Pipeline('ko')"
   ]
  },
  {
   "cell_type": "code",
   "execution_count": 37,
   "metadata": {},
   "outputs": [],
   "source": [
    "text = '교도소 이야기구먼 ..솔직히 재미는 없다..평점 조정'"
   ]
  },
  {
   "cell_type": "code",
   "execution_count": 38,
   "metadata": {},
   "outputs": [],
   "source": [
    "doc = nlp(text)"
   ]
  },
  {
   "cell_type": "code",
   "execution_count": 39,
   "metadata": {
    "scrolled": true
   },
   "outputs": [
    {
     "data": {
      "text/plain": [
       "[[\n",
       "   {\n",
       "     \"id\": 1,\n",
       "     \"text\": \"교도소\",\n",
       "     \"lemma\": \"교도소\",\n",
       "     \"upos\": \"NOUN\",\n",
       "     \"xpos\": \"ncn\",\n",
       "     \"head\": 2,\n",
       "     \"deprel\": \"compound\",\n",
       "     \"misc\": \"start_char=0|end_char=3\"\n",
       "   },\n",
       "   {\n",
       "     \"id\": 2,\n",
       "     \"text\": \"이야기구먼\",\n",
       "     \"lemma\": \"이야기구먼\",\n",
       "     \"upos\": \"NOUN\",\n",
       "     \"xpos\": \"ncn+ncn\",\n",
       "     \"head\": 3,\n",
       "     \"deprel\": \"compound\",\n",
       "     \"misc\": \"start_char=4|end_char=9\"\n",
       "   },\n",
       "   {\n",
       "     \"id\": 3,\n",
       "     \"text\": \"..솔직히\",\n",
       "     \"lemma\": \"..솔직히\",\n",
       "     \"upos\": \"NOUN\",\n",
       "     \"xpos\": \"nnc+nbu\",\n",
       "     \"head\": 4,\n",
       "     \"deprel\": \"compound\",\n",
       "     \"misc\": \"start_char=10|end_char=15\"\n",
       "   },\n",
       "   {\n",
       "     \"id\": 4,\n",
       "     \"text\": \"재미는\",\n",
       "     \"lemma\": \"재미+는\",\n",
       "     \"upos\": \"NOUN\",\n",
       "     \"xpos\": \"ncpa+jxt\",\n",
       "     \"head\": 5,\n",
       "     \"deprel\": \"dislocated\",\n",
       "     \"misc\": \"start_char=16|end_char=19\"\n",
       "   },\n",
       "   {\n",
       "     \"id\": 5,\n",
       "     \"text\": \"없다\",\n",
       "     \"lemma\": \"없+다\",\n",
       "     \"upos\": \"ADJ\",\n",
       "     \"xpos\": \"paa+ef\",\n",
       "     \"head\": 0,\n",
       "     \"deprel\": \"root\",\n",
       "     \"misc\": \"start_char=20|end_char=22\"\n",
       "   },\n",
       "   {\n",
       "     \"id\": 6,\n",
       "     \"text\": \".\",\n",
       "     \"lemma\": \".\",\n",
       "     \"upos\": \"PUNCT\",\n",
       "     \"xpos\": \"sf\",\n",
       "     \"head\": 5,\n",
       "     \"deprel\": \"punct\",\n",
       "     \"misc\": \"start_char=22|end_char=23\"\n",
       "   }\n",
       " ],\n",
       " [\n",
       "   {\n",
       "     \"id\": 1,\n",
       "     \"text\": \".평점\",\n",
       "     \"lemma\": \".평점\",\n",
       "     \"upos\": \"NOUN\",\n",
       "     \"xpos\": \"nnc+ncn\",\n",
       "     \"head\": 2,\n",
       "     \"deprel\": \"compound\",\n",
       "     \"misc\": \"start_char=23|end_char=26\"\n",
       "   },\n",
       "   {\n",
       "     \"id\": 2,\n",
       "     \"text\": \"조정\",\n",
       "     \"lemma\": \"조정\",\n",
       "     \"upos\": \"NOUN\",\n",
       "     \"xpos\": \"ncpa\",\n",
       "     \"head\": 0,\n",
       "     \"deprel\": \"root\",\n",
       "     \"misc\": \"start_char=27|end_char=29\"\n",
       "   }\n",
       " ]]"
      ]
     },
     "execution_count": 39,
     "metadata": {},
     "output_type": "execute_result"
    }
   ],
   "source": [
    "# 문서에 있는 문장들을 리스트의 형태로 나눠 놓음 doc.sentences\n",
    "doc.sentences"
   ]
  },
  {
   "cell_type": "code",
   "execution_count": 40,
   "metadata": {},
   "outputs": [
    {
     "name": "stdout",
     "output_type": "stream",
     "text": [
      "교도소\n",
      "이야기구먼\n",
      "..솔직히\n",
      "재미\n",
      ".평점\n",
      "조정\n"
     ]
    }
   ],
   "source": [
    "for sentence in doc.sentences:\n",
    "    for word in sentence.words:\n",
    "        lemma = word.lemma.split('+')\n",
    "        pos = word.xpos.split('+')\n",
    "        for w, p in zip(lemma, pos):\n",
    "            if p.startswith('n'):\n",
    "                print(w)"
   ]
  },
  {
   "cell_type": "code",
   "execution_count": 43,
   "metadata": {},
   "outputs": [],
   "source": [
    "def extract_nouns(text):\n",
    "    doc = nlp(text)\n",
    "    for sentence in doc.sentences:\n",
    "        for word in sentence.words:\n",
    "            lemma = word.lemma.split('+')\n",
    "            pos = word.xpos.split('+')\n",
    "            for w, p in zip(lemma, pos):\n",
    "                if p.startswith('n'):\n",
    "                    yield w"
   ]
  },
  {
   "cell_type": "code",
   "execution_count": 44,
   "metadata": {},
   "outputs": [
    {
     "data": {
      "text/plain": [
       "['교도소', '이야기구먼', '..솔직히', '재미', '.평점', '조정']"
      ]
     },
     "execution_count": 44,
     "metadata": {},
     "output_type": "execute_result"
    }
   ],
   "source": [
    "list(extract_nouns(text))"
   ]
  },
  {
   "cell_type": "code",
   "execution_count": null,
   "metadata": {},
   "outputs": [],
   "source": []
  },
  {
   "cell_type": "code",
   "execution_count": 45,
   "metadata": {},
   "outputs": [],
   "source": [
    "from sklearn.feature_extraction.text import CountVectorizer"
   ]
  },
  {
   "cell_type": "code",
   "execution_count": 46,
   "metadata": {},
   "outputs": [],
   "source": [
    "cv = CountVectorizer(max_features=100, tokenizer=extract_nouns)"
   ]
  },
  {
   "cell_type": "code",
   "execution_count": 47,
   "metadata": {},
   "outputs": [],
   "source": [
    "tdm = cv.fit_transform(nsmc.loc[0:100, 'document']) # loc 는 100 포함 "
   ]
  },
  {
   "cell_type": "code",
   "execution_count": 48,
   "metadata": {},
   "outputs": [
    {
     "data": {
      "text/plain": [
       "(101, 100)"
      ]
     },
     "execution_count": 48,
     "metadata": {},
     "output_type": "execute_result"
    }
   ],
   "source": [
    "tdm.shape"
   ]
  },
  {
   "cell_type": "code",
   "execution_count": 49,
   "metadata": {},
   "outputs": [],
   "source": [
    "word_count = pd.DataFrame({\n",
    "    '단어': cv.get_feature_names(),\n",
    "    '빈도': tdm.sum(axis=0).flat\n",
    "})"
   ]
  },
  {
   "cell_type": "code",
   "execution_count": 51,
   "metadata": {},
   "outputs": [
    {
     "data": {
      "text/html": [
       "<div>\n",
       "<style scoped>\n",
       "    .dataframe tbody tr th:only-of-type {\n",
       "        vertical-align: middle;\n",
       "    }\n",
       "\n",
       "    .dataframe tbody tr th {\n",
       "        vertical-align: top;\n",
       "    }\n",
       "\n",
       "    .dataframe thead th {\n",
       "        text-align: right;\n",
       "    }\n",
       "</style>\n",
       "<table border=\"1\" class=\"dataframe\">\n",
       "  <thead>\n",
       "    <tr style=\"text-align: right;\">\n",
       "      <th></th>\n",
       "      <th>단어</th>\n",
       "      <th>빈도</th>\n",
       "    </tr>\n",
       "  </thead>\n",
       "  <tbody>\n",
       "    <tr>\n",
       "      <th>47</th>\n",
       "      <td>영화</td>\n",
       "      <td>19</td>\n",
       "    </tr>\n",
       "    <tr>\n",
       "      <th>46</th>\n",
       "      <td>연기</td>\n",
       "      <td>6</td>\n",
       "    </tr>\n",
       "    <tr>\n",
       "      <th>49</th>\n",
       "      <td>완전</td>\n",
       "      <td>6</td>\n",
       "    </tr>\n",
       "    <tr>\n",
       "      <th>9</th>\n",
       "      <td>내용</td>\n",
       "      <td>5</td>\n",
       "    </tr>\n",
       "    <tr>\n",
       "      <th>92</th>\n",
       "      <td>진짜</td>\n",
       "      <td>5</td>\n",
       "    </tr>\n",
       "    <tr>\n",
       "      <th>...</th>\n",
       "      <td>...</td>\n",
       "      <td>...</td>\n",
       "    </tr>\n",
       "    <tr>\n",
       "      <th>61</th>\n",
       "      <td>은은하</td>\n",
       "      <td>1</td>\n",
       "    </tr>\n",
       "    <tr>\n",
       "      <th>62</th>\n",
       "      <td>은희</td>\n",
       "      <td>1</td>\n",
       "    </tr>\n",
       "    <tr>\n",
       "      <th>63</th>\n",
       "      <td>음내</td>\n",
       "      <td>1</td>\n",
       "    </tr>\n",
       "    <tr>\n",
       "      <th>26</th>\n",
       "      <td>신카이</td>\n",
       "      <td>1</td>\n",
       "    </tr>\n",
       "    <tr>\n",
       "      <th>50</th>\n",
       "      <td>웃음</td>\n",
       "      <td>1</td>\n",
       "    </tr>\n",
       "  </tbody>\n",
       "</table>\n",
       "<p>100 rows × 2 columns</p>\n",
       "</div>"
      ],
      "text/plain": [
       "     단어  빈도\n",
       "47   영화  19\n",
       "46   연기   6\n",
       "49   완전   6\n",
       "9    내용   5\n",
       "92   진짜   5\n",
       "..  ...  ..\n",
       "61  은은하   1\n",
       "62   은희   1\n",
       "63   음내   1\n",
       "26  신카이   1\n",
       "50   웃음   1\n",
       "\n",
       "[100 rows x 2 columns]"
      ]
     },
     "execution_count": 51,
     "metadata": {},
     "output_type": "execute_result"
    }
   ],
   "source": [
    "word_count.sort_values('빈도', ascending=False)"
   ]
  },
  {
   "cell_type": "code",
   "execution_count": null,
   "metadata": {},
   "outputs": [],
   "source": [
    "# stop word 목록을 만들어라?? ,,,, 흠... "
   ]
  },
  {
   "cell_type": "code",
   "execution_count": 52,
   "metadata": {},
   "outputs": [],
   "source": [
    "word_count.to_excel('nsmc_count.xlsx')"
   ]
  }
 ],
 "metadata": {
  "kernelspec": {
   "display_name": "Python 3",
   "language": "python",
   "name": "python3"
  },
  "language_info": {
   "codemirror_mode": {
    "name": "ipython",
    "version": 3
   },
   "file_extension": ".py",
   "mimetype": "text/x-python",
   "name": "python",
   "nbconvert_exporter": "python",
   "pygments_lexer": "ipython3",
   "version": "3.7.9"
  }
 },
 "nbformat": 4,
 "nbformat_minor": 4
}
