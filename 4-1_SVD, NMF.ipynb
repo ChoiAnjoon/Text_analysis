{
 "cells": [
  {
   "cell_type": "markdown",
   "metadata": {},
   "source": [
    "# 주제분석 (비지도학습)"
   ]
  },
  {
   "cell_type": "code",
   "execution_count": null,
   "metadata": {},
   "outputs": [],
   "source": [
    "# 코랩에서  하는 경우는 이 코드로 데이터를 다운 받으면 됌\n",
    "# !wget -c https://github.com/euphoris/datasets/raw/master/neurips.zip"
   ]
  },
  {
   "cell_type": "code",
   "execution_count": 3,
   "metadata": {},
   "outputs": [],
   "source": [
    "import pandas as pd\n",
    "df = pd.read_csv('neurips.zip')"
   ]
  },
  {
   "cell_type": "code",
   "execution_count": 4,
   "metadata": {},
   "outputs": [
    {
     "data": {
      "text/html": [
       "<div>\n",
       "<style scoped>\n",
       "    .dataframe tbody tr th:only-of-type {\n",
       "        vertical-align: middle;\n",
       "    }\n",
       "\n",
       "    .dataframe tbody tr th {\n",
       "        vertical-align: top;\n",
       "    }\n",
       "\n",
       "    .dataframe thead th {\n",
       "        text-align: right;\n",
       "    }\n",
       "</style>\n",
       "<table border=\"1\" class=\"dataframe\">\n",
       "  <thead>\n",
       "    <tr style=\"text-align: right;\">\n",
       "      <th></th>\n",
       "      <th>year</th>\n",
       "      <th>title</th>\n",
       "      <th>abstract</th>\n",
       "    </tr>\n",
       "  </thead>\n",
       "  <tbody>\n",
       "    <tr>\n",
       "      <th>0</th>\n",
       "      <td>2007</td>\n",
       "      <td>Competition Adds Complexity</td>\n",
       "      <td>It is known that determinining whether a DEC-P...</td>\n",
       "    </tr>\n",
       "    <tr>\n",
       "      <th>1</th>\n",
       "      <td>2007</td>\n",
       "      <td>Efficient Principled Learning of Thin Junction...</td>\n",
       "      <td>We present the first truly polynomial algorith...</td>\n",
       "    </tr>\n",
       "    <tr>\n",
       "      <th>2</th>\n",
       "      <td>2007</td>\n",
       "      <td>Regularized Boost for Semi-Supervised Learning</td>\n",
       "      <td>Semi-supervised inductive learning concerns ho...</td>\n",
       "    </tr>\n",
       "    <tr>\n",
       "      <th>3</th>\n",
       "      <td>2007</td>\n",
       "      <td>Simplified Rules and Theoretical Analysis for ...</td>\n",
       "      <td>We show that under suitable assumptions (prima...</td>\n",
       "    </tr>\n",
       "    <tr>\n",
       "      <th>4</th>\n",
       "      <td>2007</td>\n",
       "      <td>Predicting human gaze using low-level saliency...</td>\n",
       "      <td>Under natural viewing conditions, human observ...</td>\n",
       "    </tr>\n",
       "  </tbody>\n",
       "</table>\n",
       "</div>"
      ],
      "text/plain": [
       "   year                                              title  \\\n",
       "0  2007                        Competition Adds Complexity   \n",
       "1  2007  Efficient Principled Learning of Thin Junction...   \n",
       "2  2007     Regularized Boost for Semi-Supervised Learning   \n",
       "3  2007  Simplified Rules and Theoretical Analysis for ...   \n",
       "4  2007  Predicting human gaze using low-level saliency...   \n",
       "\n",
       "                                            abstract  \n",
       "0  It is known that determinining whether a DEC-P...  \n",
       "1  We present the first truly polynomial algorith...  \n",
       "2  Semi-supervised inductive learning concerns ho...  \n",
       "3  We show that under suitable assumptions (prima...  \n",
       "4  Under natural viewing conditions, human observ...  "
      ]
     },
     "execution_count": 4,
     "metadata": {},
     "output_type": "execute_result"
    }
   ],
   "source": [
    "df.head()"
   ]
  },
  {
   "cell_type": "code",
   "execution_count": 5,
   "metadata": {},
   "outputs": [
    {
     "data": {
      "text/html": [
       "<div>\n",
       "<style scoped>\n",
       "    .dataframe tbody tr th:only-of-type {\n",
       "        vertical-align: middle;\n",
       "    }\n",
       "\n",
       "    .dataframe tbody tr th {\n",
       "        vertical-align: top;\n",
       "    }\n",
       "\n",
       "    .dataframe thead th {\n",
       "        text-align: right;\n",
       "    }\n",
       "</style>\n",
       "<table border=\"1\" class=\"dataframe\">\n",
       "  <thead>\n",
       "    <tr style=\"text-align: right;\">\n",
       "      <th></th>\n",
       "      <th>year</th>\n",
       "      <th>title</th>\n",
       "      <th>abstract</th>\n",
       "    </tr>\n",
       "  </thead>\n",
       "  <tbody>\n",
       "    <tr>\n",
       "      <th>3915</th>\n",
       "      <td>2017</td>\n",
       "      <td>On Separability of Loss Functions, and Revisit...</td>\n",
       "      <td>We revisit the classical analysis of generativ...</td>\n",
       "    </tr>\n",
       "    <tr>\n",
       "      <th>3916</th>\n",
       "      <td>2017</td>\n",
       "      <td>Maxing and Ranking with Few Assumptions</td>\n",
       "      <td>PAC maximum                                   ...</td>\n",
       "    </tr>\n",
       "    <tr>\n",
       "      <th>3917</th>\n",
       "      <td>2017</td>\n",
       "      <td>On clustering network-valued data</td>\n",
       "      <td>Community detection, which focuses on clusteri...</td>\n",
       "    </tr>\n",
       "    <tr>\n",
       "      <th>3918</th>\n",
       "      <td>2017</td>\n",
       "      <td>A General Framework for Robust Interactive Lea...</td>\n",
       "      <td>We propose a general framework for interactive...</td>\n",
       "    </tr>\n",
       "    <tr>\n",
       "      <th>3919</th>\n",
       "      <td>2017</td>\n",
       "      <td>Multi-view Matrix Factorization for Linear Dyn...</td>\n",
       "      <td>We consider maximum likelihood estimation of l...</td>\n",
       "    </tr>\n",
       "  </tbody>\n",
       "</table>\n",
       "</div>"
      ],
      "text/plain": [
       "      year                                              title  \\\n",
       "3915  2017  On Separability of Loss Functions, and Revisit...   \n",
       "3916  2017            Maxing and Ranking with Few Assumptions   \n",
       "3917  2017                  On clustering network-valued data   \n",
       "3918  2017  A General Framework for Robust Interactive Lea...   \n",
       "3919  2017  Multi-view Matrix Factorization for Linear Dyn...   \n",
       "\n",
       "                                               abstract  \n",
       "3915  We revisit the classical analysis of generativ...  \n",
       "3916  PAC maximum                                   ...  \n",
       "3917  Community detection, which focuses on clusteri...  \n",
       "3918  We propose a general framework for interactive...  \n",
       "3919  We consider maximum likelihood estimation of l...  "
      ]
     },
     "execution_count": 5,
     "metadata": {},
     "output_type": "execute_result"
    }
   ],
   "source": [
    "df.tail()"
   ]
  },
  {
   "cell_type": "code",
   "execution_count": 6,
   "metadata": {},
   "outputs": [],
   "source": [
    "from sklearn.feature_extraction.text import CountVectorizer, TfidfVectorizer"
   ]
  },
  {
   "cell_type": "code",
   "execution_count": 7,
   "metadata": {},
   "outputs": [],
   "source": [
    "cv = TfidfVectorizer(stop_words='english', max_features=2000)"
   ]
  },
  {
   "cell_type": "code",
   "execution_count": 8,
   "metadata": {},
   "outputs": [],
   "source": [
    "x = cv.fit_transform(df.abstract)"
   ]
  },
  {
   "cell_type": "code",
   "execution_count": 9,
   "metadata": {},
   "outputs": [],
   "source": [
    "words = cv.get_feature_names()"
   ]
  },
  {
   "cell_type": "code",
   "execution_count": null,
   "metadata": {},
   "outputs": [],
   "source": []
  },
  {
   "cell_type": "code",
   "execution_count": 10,
   "metadata": {},
   "outputs": [],
   "source": [
    "from sklearn.decomposition import TruncatedSVD"
   ]
  },
  {
   "cell_type": "code",
   "execution_count": 11,
   "metadata": {},
   "outputs": [
    {
     "data": {
      "text/plain": [
       "(3920, 2000)"
      ]
     },
     "execution_count": 11,
     "metadata": {},
     "output_type": "execute_result"
    }
   ],
   "source": [
    "x.shape"
   ]
  },
  {
   "cell_type": "code",
   "execution_count": 12,
   "metadata": {},
   "outputs": [],
   "source": [
    "# 3920 개의 문서를 100개의 주제로 분류 즉 100차원으로 축소 \n",
    "# n_components 를 100개로 나눌때 random_state으로 결과가 똑같게 나눔 \n",
    "svd = TruncatedSVD(n_components=100, random_state=1234)"
   ]
  },
  {
   "cell_type": "code",
   "execution_count": 13,
   "metadata": {},
   "outputs": [
    {
     "data": {
      "text/plain": [
       "TruncatedSVD(n_components=100, random_state=1234)"
      ]
     },
     "execution_count": 13,
     "metadata": {},
     "output_type": "execute_result"
    }
   ],
   "source": [
    "svd.fit(x)"
   ]
  },
  {
   "cell_type": "code",
   "execution_count": 14,
   "metadata": {},
   "outputs": [
    {
     "data": {
      "text/plain": [
       "(100, 2000)"
      ]
     },
     "execution_count": 14,
     "metadata": {},
     "output_type": "execute_result"
    }
   ],
   "source": [
    "# 차원과 단어의 관계 \n",
    "svd.components_.shape"
   ]
  },
  {
   "cell_type": "code",
   "execution_count": 15,
   "metadata": {},
   "outputs": [
    {
     "data": {
      "text/plain": [
       "array([[ 0.00483864,  0.01243762,  0.004755  , ...,  0.00491457,\n",
       "         0.0162017 ,  0.01160996],\n",
       "       [-0.0055402 , -0.01859974, -0.00681511, ...,  0.00074343,\n",
       "         0.0014955 ,  0.00839796],\n",
       "       [-0.00331551, -0.02285996, -0.00537686, ..., -0.00103497,\n",
       "         0.00135762, -0.00786135],\n",
       "       ...,\n",
       "       [-0.00037104,  0.02843677,  0.00591093, ...,  0.0027189 ,\n",
       "         0.01184353, -0.01022713],\n",
       "       [ 0.00286079, -0.02232737, -0.00742612, ...,  0.00374566,\n",
       "        -0.00553911, -0.00644252],\n",
       "       [ 0.00840489,  0.00073834,  0.00954845, ..., -0.00397496,\n",
       "        -0.00763423, -0.00401217]])"
      ]
     },
     "execution_count": 15,
     "metadata": {},
     "output_type": "execute_result"
    }
   ],
   "source": [
    "# 100개의 각각의 차원들 별로 2000개의 단어들과 어떤게 관련이 있는지를 나타냄 \n",
    "svd.components_"
   ]
  },
  {
   "cell_type": "code",
   "execution_count": 16,
   "metadata": {},
   "outputs": [
    {
     "data": {
      "text/plain": [
       "1861"
      ]
     },
     "execution_count": 16,
     "metadata": {},
     "output_type": "execute_result"
    }
   ],
   "source": [
    "# 단어목록에서 특정단어가 몇번째 있는지 index 메서드를 쓰면 볼수있다.\n",
    "# 토픽이라는 단어는 1861번째에 위치\n",
    "words.index('topic')"
   ]
  },
  {
   "cell_type": "code",
   "execution_count": 17,
   "metadata": {},
   "outputs": [],
   "source": [
    "word_idx = words.index('topic')"
   ]
  },
  {
   "cell_type": "code",
   "execution_count": 18,
   "metadata": {
    "collapsed": true
   },
   "outputs": [
    {
     "data": {
      "text/plain": [
       "array([ 2.21636837e-02, -3.35006049e-02,  6.34481186e-02, -9.08255574e-03,\n",
       "       -2.59052356e-02, -3.04093871e-02,  4.31240860e-02, -4.44698174e-02,\n",
       "       -5.35017435e-02,  2.51650395e-02, -7.43829615e-02, -4.09887607e-02,\n",
       "        1.43222364e-03,  9.13531186e-02, -5.15778667e-02,  1.43561806e-02,\n",
       "        1.43079857e-02,  1.08711712e-01, -1.99153193e-02,  9.44076667e-02,\n",
       "       -1.49543745e-01,  7.67068611e-02, -9.41560593e-02,  1.36303047e-02,\n",
       "       -4.61174101e-02,  1.04014531e-01,  1.14117206e-01,  1.99617317e-01,\n",
       "        3.19722162e-02,  6.47920314e-02, -9.24920865e-02,  2.24452596e-02,\n",
       "        1.25802356e-02,  1.57600255e-02,  3.03693389e-02, -1.57972126e-01,\n",
       "       -6.85859397e-02, -2.71583590e-02, -4.23475068e-02,  6.59471303e-03,\n",
       "       -7.82198356e-02,  6.56273694e-02,  1.66759836e-02,  5.84677258e-02,\n",
       "        1.36793675e-02, -4.11903979e-02,  2.94849115e-02, -2.23744287e-02,\n",
       "       -7.98992089e-02,  7.03076161e-02, -8.41267895e-02, -9.61470800e-02,\n",
       "       -6.79298440e-02, -5.14578997e-02,  1.18931180e-02,  6.15789682e-03,\n",
       "       -1.11474880e-02,  2.94867952e-02, -3.66363896e-02, -1.41744462e-02,\n",
       "        7.36274594e-03, -2.46158653e-02,  6.47961771e-02,  8.95522624e-03,\n",
       "       -3.96913139e-04, -1.79853016e-04, -2.22553679e-02, -1.80523672e-02,\n",
       "       -1.10168346e-01, -4.43826153e-02,  4.81139312e-02,  1.52893745e-02,\n",
       "       -1.04502313e-02, -5.66792722e-02,  7.90153696e-03,  3.95921870e-02,\n",
       "       -3.68376423e-02, -1.54981663e-01,  3.38559085e-02, -1.33979470e-02,\n",
       "       -1.31676964e-02,  5.59717455e-02,  6.29342326e-03, -7.21399145e-02,\n",
       "       -3.23451854e-02, -5.00067057e-02,  3.33799447e-02, -4.32286199e-02,\n",
       "        1.07889200e-02, -5.35033227e-02,  1.78997607e-02, -8.99275159e-02,\n",
       "       -3.15281923e-02,  1.14875441e-02, -1.65870226e-02,  8.21166940e-02,\n",
       "       -2.44319766e-02,  1.91906063e-02,  5.36237310e-02,  4.61675260e-02])"
      ]
     },
     "execution_count": 18,
     "metadata": {},
     "output_type": "execute_result"
    }
   ],
   "source": [
    "# 행은 100 다가져오고 열은 1861번째인 topic 단어의 열만 가져 오게됨 \n",
    "svd.components_[:, word_idx]"
   ]
  },
  {
   "cell_type": "code",
   "execution_count": 19,
   "metadata": {},
   "outputs": [
    {
     "data": {
      "image/png": "[encoded data removed]",
      "text/plain": [
       "<Figure size 432x288 with 1 Axes>"
      ]
     },
     "metadata": {
      "needs_background": "light"
     },
     "output_type": "display_data"
    }
   ],
   "source": [
    "import matplotlib.pyplot as plt\n",
    "plt.plot(svd.components_[:, word_idx]);\n",
    "# 밑에 0.2를 넘는 27번째 주제가 topic 이라는 단어와 가장 관련된 주제라고 판단할수 있다. "
   ]
  },
  {
   "cell_type": "code",
   "execution_count": 20,
   "metadata": {},
   "outputs": [
    {
     "data": {
      "text/plain": [
       "27"
      ]
     },
     "execution_count": 20,
     "metadata": {},
     "output_type": "execute_result"
    }
   ],
   "source": [
    "# 주제중에 27번 주제가 topic 이라는 단어와 관계가 강한 주제 임을 확인할수 있다. \n",
    "svd.components_[:, word_idx].argmax()"
   ]
  },
  {
   "cell_type": "code",
   "execution_count": 21,
   "metadata": {},
   "outputs": [],
   "source": [
    "topic_idx = svd.components_[:, word_idx].argmax()"
   ]
  },
  {
   "cell_type": "code",
   "execution_count": 22,
   "metadata": {},
   "outputs": [
    {
     "data": {
      "text/html": [
       "<div>\n",
       "<style scoped>\n",
       "    .dataframe tbody tr th:only-of-type {\n",
       "        vertical-align: middle;\n",
       "    }\n",
       "\n",
       "    .dataframe tbody tr th {\n",
       "        vertical-align: top;\n",
       "    }\n",
       "\n",
       "    .dataframe thead th {\n",
       "        text-align: right;\n",
       "    }\n",
       "</style>\n",
       "<table border=\"1\" class=\"dataframe\">\n",
       "  <thead>\n",
       "    <tr style=\"text-align: right;\">\n",
       "      <th></th>\n",
       "      <th>words</th>\n",
       "      <th>loading</th>\n",
       "    </tr>\n",
       "  </thead>\n",
       "  <tbody>\n",
       "    <tr>\n",
       "      <th>1202</th>\n",
       "      <td>norm</td>\n",
       "      <td>0.119621</td>\n",
       "    </tr>\n",
       "    <tr>\n",
       "      <th>804</th>\n",
       "      <td>graph</td>\n",
       "      <td>0.126101</td>\n",
       "    </tr>\n",
       "    <tr>\n",
       "      <th>866</th>\n",
       "      <td>image</td>\n",
       "      <td>0.155490</td>\n",
       "    </tr>\n",
       "    <tr>\n",
       "      <th>1861</th>\n",
       "      <td>topic</td>\n",
       "      <td>0.199617</td>\n",
       "    </tr>\n",
       "    <tr>\n",
       "      <th>1713</th>\n",
       "      <td>sparse</td>\n",
       "      <td>0.211411</td>\n",
       "    </tr>\n",
       "  </tbody>\n",
       "</table>\n",
       "</div>"
      ],
      "text/plain": [
       "       words   loading\n",
       "1202    norm  0.119621\n",
       "804    graph  0.126101\n",
       "866    image  0.155490\n",
       "1861   topic  0.199617\n",
       "1713  sparse  0.211411"
      ]
     },
     "execution_count": 22,
     "metadata": {},
     "output_type": "execute_result"
    }
   ],
   "source": [
    "# 이 27번의 주제가 topic 이외의 다른 단어들과는 어떤 관련있는지를 알아보기 위해서 진행 \n",
    "# 주제와 단어의 관련도를 나타내는 값을 loading 이라고 한다 \n",
    "topic = pd.DataFrame({'words': words, 'loading': svd.components_[topic_idx]}) # [topic_idx, :] 열 다 가져 올때는 올때 뒤 : 는 생략가능 \n",
    "topic.sort_values('loading').tail()\n",
    "# 주제27이 증가하면 위 밑의 단어들이 동시에 증가한 다는 뜻  "
   ]
  },
  {
   "cell_type": "code",
   "execution_count": null,
   "metadata": {},
   "outputs": [],
   "source": []
  },
  {
   "cell_type": "markdown",
   "metadata": {},
   "source": [
    "# 병렬 분석을 통한 차원 크기 결정 (차원의 결정)"
   ]
  },
  {
   "cell_type": "code",
   "execution_count": 23,
   "metadata": {},
   "outputs": [],
   "source": [
    "import numpy as np "
   ]
  },
  {
   "cell_type": "code",
   "execution_count": 24,
   "metadata": {},
   "outputs": [
    {
     "data": {
      "text/plain": [
       "(3920, 2000)"
      ]
     },
     "execution_count": 24,
     "metadata": {},
     "output_type": "execute_result"
    }
   ],
   "source": [
    "x.shape"
   ]
  },
  {
   "cell_type": "code",
   "execution_count": 25,
   "metadata": {},
   "outputs": [],
   "source": [
    "nrow, ncol = x.shape"
   ]
  },
  {
   "cell_type": "code",
   "execution_count": 26,
   "metadata": {},
   "outputs": [],
   "source": [
    "# 데이터를 다시 뽑는다. \n",
    "# 기존 tdm x에서 열마다(단어각각마다) 마구잡이로 뽑아서 새로운 데이터를 만듬 \n",
    "def resample(a):\n",
    "    return np.random.choice(a, size=nrow)\n",
    "\n",
    "np.random.seed(2999)\n",
    "d = np.apply_along_axis(resample, 0, x.A)\n",
    "\n",
    "# d는 단어 빈도의 분포는 일치하지만 x에 있던 단어와 단어의 관계가 다 헝크러짐 \n",
    "# d와 x를 주제 분석하고 결과를 비교해 보려고 한다. "
   ]
  },
  {
   "cell_type": "code",
   "execution_count": 27,
   "metadata": {},
   "outputs": [
    {
     "data": {
      "text/plain": [
       "(3920, 2000)"
      ]
     },
     "execution_count": 27,
     "metadata": {},
     "output_type": "execute_result"
    }
   ],
   "source": [
    "d.shape"
   ]
  },
  {
   "cell_type": "code",
   "execution_count": 28,
   "metadata": {},
   "outputs": [
    {
     "data": {
      "text/plain": [
       "TruncatedSVD(n_components=100, random_state=1234)"
      ]
     },
     "execution_count": 28,
     "metadata": {},
     "output_type": "execute_result"
    }
   ],
   "source": [
    "svd2 = TruncatedSVD(n_components=100, random_state=1234)\n",
    "svd2.fit(d)"
   ]
  },
  {
   "cell_type": "code",
   "execution_count": 29,
   "metadata": {
    "collapsed": true
   },
   "outputs": [
    {
     "data": {
      "text/plain": [
       "array([13.00277865,  3.84071894,  3.77572738,  3.68401756,  3.64532372,\n",
       "        3.55178333,  3.501594  ,  3.46689411,  3.45185393,  3.43513287,\n",
       "        3.39630779,  3.38333036,  3.35447365,  3.33374546,  3.31246363,\n",
       "        3.27766639,  3.25468905,  3.24300632,  3.22166306,  3.20489494,\n",
       "        3.19483609,  3.17476351,  3.14775366,  3.13295956,  3.13147976,\n",
       "        3.09523339,  3.07791121,  3.06870661,  3.05686939,  3.04757102,\n",
       "        3.04190845,  3.0326146 ,  2.99674225,  2.98628026,  2.9754102 ,\n",
       "        2.959524  ,  2.94798187,  2.94565898,  2.93501683,  2.92452354,\n",
       "        2.91177556,  2.8985429 ,  2.88813474,  2.8716634 ,  2.86322439,\n",
       "        2.84978814,  2.83562289,  2.82562812,  2.81592356,  2.80386208,\n",
       "        2.79840561,  2.77881119,  2.77080156,  2.75827745,  2.74913613,\n",
       "        2.74591915,  2.73704792,  2.73363507,  2.72812427,  2.7179886 ,\n",
       "        2.71447777,  2.70860993,  2.69891145,  2.69589499,  2.68181001,\n",
       "        2.67088707,  2.66330353,  2.65724649,  2.63990451,  2.6328123 ,\n",
       "        2.63103613,  2.61780653,  2.6072566 ,  2.6025524 ,  2.60016428,\n",
       "        2.59081241,  2.58765248,  2.571917  ,  2.56377175,  2.5575932 ,\n",
       "        2.54795306,  2.54423915,  2.53569677,  2.5291687 ,  2.51829205,\n",
       "        2.51396662,  2.50887242,  2.50183631,  2.493577  ,  2.48692904,\n",
       "        2.48039489,  2.47461067,  2.46422426,  2.4528448 ,  2.45014761,\n",
       "        2.44309695,  2.43295397,  2.41724936,  2.4113186 ,  2.39960691])"
      ]
     },
     "execution_count": 29,
     "metadata": {},
     "output_type": "execute_result"
    }
   ],
   "source": [
    "# 100개의 차원으로 svd를 해서 차원을 축소했는데 \n",
    "# 각각의 차원이 지니는 어떤 중요성 정도로 생각\n",
    "svd2.singular_values_"
   ]
  },
  {
   "cell_type": "code",
   "execution_count": 32,
   "metadata": {},
   "outputs": [
    {
     "data": {
      "text/plain": [
       "[<matplotlib.lines.Line2D at 0x188c5a0ca88>]"
      ]
     },
     "execution_count": 32,
     "metadata": {},
     "output_type": "execute_result"
    },
    {
     "data": {
      "image/png": "[encoded data removed]",
      "text/plain": [
       "<Figure size 432x288 with 1 Axes>"
      ]
     },
     "metadata": {
      "needs_background": "light"
     },
     "output_type": "display_data"
    }
   ],
   "source": [
    "plt.plot(svd.singular_values_)\n",
    "plt.plot(svd2.singular_values_)"
   ]
  },
  {
   "cell_type": "code",
   "execution_count": 33,
   "metadata": {},
   "outputs": [
    {
     "data": {
      "text/plain": [
       "[<matplotlib.lines.Line2D at 0x188c71e68c8>]"
      ]
     },
     "execution_count": 33,
     "metadata": {},
     "output_type": "execute_result"
    },
    {
     "data": {
      "image/png": "[encoded data removed]",
      "text/plain": [
       "<Figure size 432x288 with 1 Axes>"
      ]
     },
     "metadata": {
      "needs_background": "light"
     },
     "output_type": "display_data"
    }
   ],
   "source": [
    "plt.plot(svd.singular_values_[60:])\n",
    "plt.plot(svd2.singular_values_[60:])"
   ]
  },
  {
   "cell_type": "code",
   "execution_count": 34,
   "metadata": {},
   "outputs": [
    {
     "data": {
      "text/plain": [
       "array([ 1.02184545e-01,  2.40815353e+00,  1.46387541e+00,  1.29801274e+00,\n",
       "        1.07919708e+00,  9.80976249e-01,  8.34164117e-01,  7.77079421e-01,\n",
       "        7.45502972e-01,  6.64272745e-01,  6.25054724e-01,  5.62741331e-01,\n",
       "        5.20163849e-01,  4.30513997e-01,  4.22431409e-01,  3.97282251e-01,\n",
       "        3.55380212e-01,  2.96571356e-01,  2.89000222e-01,  2.72139574e-01,\n",
       "        2.62931477e-01,  2.32747525e-01,  2.35963171e-01,  2.04960492e-01,\n",
       "        1.86785976e-01,  1.84937104e-01,  1.66204666e-01,  1.61107994e-01,\n",
       "        1.58736704e-01,  1.46655793e-01,  1.23402946e-01,  1.13850994e-01,\n",
       "        1.40411430e-01,  1.26731148e-01,  1.26590041e-01,  1.26138602e-01,\n",
       "        1.17895756e-01,  1.03059338e-01,  1.01597124e-01,  1.03583136e-01,\n",
       "        8.96307540e-02,  7.69945466e-02,  7.03008451e-02,  7.59410016e-02,\n",
       "        7.59317748e-02,  7.66670457e-02,  8.36953707e-02,  7.33101380e-02,\n",
       "        7.51780990e-02,  7.30947991e-02,  6.73614827e-02,  7.98969124e-02,\n",
       "        6.87201744e-02,  7.49379283e-02,  7.77490009e-02,  6.48320954e-02,\n",
       "        5.97764282e-02,  5.59846501e-02,  5.81752009e-02,  6.21109803e-02,\n",
       "        5.46708473e-02,  4.49908371e-02,  3.65094658e-02,  2.90234235e-02,\n",
       "        3.91648035e-02,  3.88899471e-02,  4.28842952e-02,  3.21118628e-02,\n",
       "        4.15153713e-02,  4.04519182e-02,  2.53917729e-02,  3.48557147e-02,\n",
       "        3.99127547e-02,  3.41111603e-02,  2.46772112e-02,  2.72950464e-02,\n",
       "        2.53633857e-02,  3.12009914e-02,  2.13519812e-02,  2.69690362e-02,\n",
       "        2.09238768e-02,  2.14056517e-02,  1.17909587e-02,  8.28164656e-03,\n",
       "        1.46127276e-02,  2.57389185e-03,  2.09118271e-03,  3.12869984e-03,\n",
       "        3.01869578e-03, -3.24261445e-03, -5.48466823e-03, -1.03971170e-02,\n",
       "       -7.15145447e-03,  9.06848579e-04, -7.93114265e-03, -1.19957552e-02,\n",
       "       -3.28385602e-03, -4.85807074e-04,  1.38198709e-03,  8.85891036e-03])"
      ]
     },
     "execution_count": 34,
     "metadata": {},
     "output_type": "execute_result"
    }
   ],
   "source": [
    "# 망가진 데이터의 설명력과 똑같아지는 기존데이터의 차원을 찾아 그 뒷쪽은 배제하여 적당한 차원의 수를 선택할수 있다. \n",
    "svd.singular_values_ - svd2.singular_values_\n",
    "# -로 변하는 시점을 찾으면 됨"
   ]
  },
  {
   "cell_type": "code",
   "execution_count": 37,
   "metadata": {},
   "outputs": [
    {
     "data": {
      "text/plain": [
       "array([89], dtype=int64)"
      ]
     },
     "execution_count": 37,
     "metadata": {},
     "output_type": "execute_result"
    }
   ],
   "source": [
    "np.argwhere(svd.singular_values_ - svd2.singular_values_ <= 0)[0]\n",
    "# 89번째에서 데이터가 따라잡힌다. \n",
    "# 즉 우리가 필요한 차원의 수는 89 차원이라고 생각할수있다. "
   ]
  },
  {
   "cell_type": "code",
   "execution_count": 39,
   "metadata": {},
   "outputs": [
    {
     "data": {
      "text/plain": [
       "(100,)"
      ]
     },
     "execution_count": 39,
     "metadata": {},
     "output_type": "execute_result"
    }
   ],
   "source": [
    "svd.singular_values_.shape"
   ]
  },
  {
   "cell_type": "code",
   "execution_count": 40,
   "metadata": {},
   "outputs": [
    {
     "data": {
      "text/plain": [
       "(100, 2000)"
      ]
     },
     "execution_count": 40,
     "metadata": {},
     "output_type": "execute_result"
    }
   ],
   "source": [
    "svd.components_.shape"
   ]
  },
  {
   "cell_type": "code",
   "execution_count": null,
   "metadata": {},
   "outputs": [],
   "source": [
    "# 차원을 89 로 하여 다시 돌리면 된다 \n",
    "# 그게 아니라면 89 이후로는 무시하면 된다. "
   ]
  },
  {
   "cell_type": "code",
   "execution_count": null,
   "metadata": {},
   "outputs": [],
   "source": []
  },
  {
   "cell_type": "markdown",
   "metadata": {},
   "source": [
    "# 회전을 이용한 결과해석 "
   ]
  },
  {
   "cell_type": "code",
   "execution_count": 42,
   "metadata": {
    "collapsed": true
   },
   "outputs": [
    {
     "name": "stdout",
     "output_type": "stream",
     "text": [
      "Collecting factor_analyzer\n",
      "  Downloading factor_analyzer-0.3.2.tar.gz (40 kB)\n",
      "Requirement already satisfied: pandas in c:\\users\\msi\\anaconda3\\lib\\site-packages (from factor_analyzer) (1.1.1)\n",
      "Requirement already satisfied: scipy in c:\\users\\msi\\anaconda3\\lib\\site-packages (from factor_analyzer) (1.5.2)\n",
      "Requirement already satisfied: numpy in c:\\users\\msi\\anaconda3\\lib\\site-packages (from factor_analyzer) (1.20.1)\n",
      "Requirement already satisfied: scikit-learn in c:\\users\\msi\\anaconda3\\lib\\site-packages (from factor_analyzer) (0.23.2)\n",
      "Requirement already satisfied: pytz>=2017.2 in c:\\users\\msi\\anaconda3\\lib\\site-packages (from pandas->factor_analyzer) (2020.1)\n",
      "Requirement already satisfied: python-dateutil>=2.7.3 in c:\\users\\msi\\anaconda3\\lib\\site-packages (from pandas->factor_analyzer) (2.8.1)\n",
      "Requirement already satisfied: six>=1.5 in c:\\users\\msi\\anaconda3\\lib\\site-packages (from python-dateutil>=2.7.3->pandas->factor_analyzer) (1.15.0)\n",
      "Requirement already satisfied: threadpoolctl>=2.0.0 in c:\\users\\msi\\anaconda3\\lib\\site-packages (from scikit-learn->factor_analyzer) (2.1.0)\n",
      "Requirement already satisfied: joblib>=0.11 in c:\\users\\msi\\anaconda3\\lib\\site-packages (from scikit-learn->factor_analyzer) (0.16.0)\n",
      "Building wheels for collected packages: factor-analyzer\n",
      "  Building wheel for factor-analyzer (setup.py): started\n",
      "  Building wheel for factor-analyzer (setup.py): finished with status 'done'\n",
      "  Created wheel for factor-analyzer: filename=factor_analyzer-0.3.2-py3-none-any.whl size=40383 sha256=e404b2eb7a147415f421a231ae426964b5310bbd32e23d52f9bbeb713da47f8c\n",
      "  Stored in directory: c:\\users\\msi\\appdata\\local\\pip\\cache\\wheels\\8d\\9e\\4c\\fd4cb92cecf157b13702cc0907e5c56ddc48e5388134dc9f1a\n",
      "Successfully built factor-analyzer\n",
      "Installing collected packages: factor-analyzer\n",
      "Successfully installed factor-analyzer-0.3.2\n"
     ]
    }
   ],
   "source": [
    "# 패키지 설치 \n",
    "# !pip install factor_analyzer"
   ]
  },
  {
   "cell_type": "code",
   "execution_count": 43,
   "metadata": {},
   "outputs": [],
   "source": [
    "from factor_analyzer import Rotator"
   ]
  },
  {
   "cell_type": "code",
   "execution_count": 44,
   "metadata": {},
   "outputs": [],
   "source": [
    "rotator = Rotator()"
   ]
  },
  {
   "cell_type": "code",
   "execution_count": 46,
   "metadata": {},
   "outputs": [],
   "source": [
    "# 행과 열을 뒤집어서 넣어줘야함 \n",
    "rot = rotator.fit_transform(svd.components_.T)"
   ]
  },
  {
   "cell_type": "code",
   "execution_count": 48,
   "metadata": {},
   "outputs": [],
   "source": [
    "# 트랜스포스 했음으로 다시 트랜스포스로 풀어줌\n",
    "loading = rot.T "
   ]
  },
  {
   "cell_type": "code",
   "execution_count": 49,
   "metadata": {},
   "outputs": [
    {
     "data": {
      "image/png": "[encoded data removed]",
      "text/plain": [
       "<Figure size 432x288 with 1 Axes>"
      ]
     },
     "metadata": {
      "needs_background": "light"
     },
     "output_type": "display_data"
    }
   ],
   "source": [
    "plt.plot(loading[:, word_idx]);"
   ]
  },
  {
   "cell_type": "code",
   "execution_count": 50,
   "metadata": {},
   "outputs": [
    {
     "data": {
      "text/plain": [
       "27"
      ]
     },
     "execution_count": 50,
     "metadata": {},
     "output_type": "execute_result"
    }
   ],
   "source": [
    "topic_idx = loading[:, word_idx].argmax()\n",
    "topic_idx "
   ]
  },
  {
   "cell_type": "code",
   "execution_count": 52,
   "metadata": {},
   "outputs": [
    {
     "data": {
      "text/html": [
       "<div>\n",
       "<style scoped>\n",
       "    .dataframe tbody tr th:only-of-type {\n",
       "        vertical-align: middle;\n",
       "    }\n",
       "\n",
       "    .dataframe tbody tr th {\n",
       "        vertical-align: top;\n",
       "    }\n",
       "\n",
       "    .dataframe thead th {\n",
       "        text-align: right;\n",
       "    }\n",
       "</style>\n",
       "<table border=\"1\" class=\"dataframe\">\n",
       "  <thead>\n",
       "    <tr style=\"text-align: right;\">\n",
       "      <th></th>\n",
       "      <th>words</th>\n",
       "      <th>loading</th>\n",
       "    </tr>\n",
       "  </thead>\n",
       "  <tbody>\n",
       "    <tr>\n",
       "      <th>1842</th>\n",
       "      <td>text</td>\n",
       "      <td>0.121777</td>\n",
       "    </tr>\n",
       "    <tr>\n",
       "      <th>999</th>\n",
       "      <td>latent</td>\n",
       "      <td>0.157819</td>\n",
       "    </tr>\n",
       "    <tr>\n",
       "      <th>520</th>\n",
       "      <td>dirichlet</td>\n",
       "      <td>0.187826</td>\n",
       "    </tr>\n",
       "    <tr>\n",
       "      <th>540</th>\n",
       "      <td>document</td>\n",
       "      <td>0.192213</td>\n",
       "    </tr>\n",
       "    <tr>\n",
       "      <th>1987</th>\n",
       "      <td>word</td>\n",
       "      <td>0.208114</td>\n",
       "    </tr>\n",
       "    <tr>\n",
       "      <th>1988</th>\n",
       "      <td>words</td>\n",
       "      <td>0.215588</td>\n",
       "    </tr>\n",
       "    <tr>\n",
       "      <th>1003</th>\n",
       "      <td>lda</td>\n",
       "      <td>0.224917</td>\n",
       "    </tr>\n",
       "    <tr>\n",
       "      <th>541</th>\n",
       "      <td>documents</td>\n",
       "      <td>0.225140</td>\n",
       "    </tr>\n",
       "    <tr>\n",
       "      <th>1862</th>\n",
       "      <td>topics</td>\n",
       "      <td>0.273106</td>\n",
       "    </tr>\n",
       "    <tr>\n",
       "      <th>1861</th>\n",
       "      <td>topic</td>\n",
       "      <td>0.566290</td>\n",
       "    </tr>\n",
       "  </tbody>\n",
       "</table>\n",
       "</div>"
      ],
      "text/plain": [
       "          words   loading\n",
       "1842       text  0.121777\n",
       "999      latent  0.157819\n",
       "520   dirichlet  0.187826\n",
       "540    document  0.192213\n",
       "1987       word  0.208114\n",
       "1988      words  0.215588\n",
       "1003        lda  0.224917\n",
       "541   documents  0.225140\n",
       "1862     topics  0.273106\n",
       "1861      topic  0.566290"
      ]
     },
     "execution_count": 52,
     "metadata": {},
     "output_type": "execute_result"
    }
   ],
   "source": [
    "topic = pd.DataFrame({'words': words, 'loading': loading[topic_idx]}) # [topic_idx, :] 열 다 가져 올때는 올때 뒤 : 는 생략가능 \n",
    "topic.sort_values('loading').tail(10)"
   ]
  },
  {
   "cell_type": "code",
   "execution_count": null,
   "metadata": {},
   "outputs": [],
   "source": []
  },
  {
   "cell_type": "code",
   "execution_count": null,
   "metadata": {},
   "outputs": [],
   "source": [
    "# 이제 transfrom 하고 회전행렬을 다시 적용해보자 "
   ]
  },
  {
   "cell_type": "code",
   "execution_count": 54,
   "metadata": {},
   "outputs": [],
   "source": [
    "doc_topics = svd.transform(x)"
   ]
  },
  {
   "cell_type": "code",
   "execution_count": 55,
   "metadata": {},
   "outputs": [
    {
     "data": {
      "text/plain": [
       "(3920, 100)"
      ]
     },
     "execution_count": 55,
     "metadata": {},
     "output_type": "execute_result"
    }
   ],
   "source": [
    "doc_topics.shape"
   ]
  },
  {
   "cell_type": "code",
   "execution_count": 56,
   "metadata": {},
   "outputs": [],
   "source": [
    "# 회전 적용 \n",
    "# 회전행렬을 행렬 곱셈해주면 회전된 결과가 됨 \n",
    "doc_topics = doc_topics @ rotator.rotation_"
   ]
  },
  {
   "cell_type": "code",
   "execution_count": 57,
   "metadata": {},
   "outputs": [
    {
     "data": {
      "text/plain": [
       "array([ 0.04513653, -0.02398903,  0.02458688, ...,  0.01771896,\n",
       "       -0.01505735,  0.03134085])"
      ]
     },
     "execution_count": 57,
     "metadata": {},
     "output_type": "execute_result"
    }
   ],
   "source": [
    "# 문서별로 27번 토픽 주제를 얼마나 포함하는지 알수 있음\n",
    "doc_topics[:, topic_idx]"
   ]
  },
  {
   "cell_type": "code",
   "execution_count": 59,
   "metadata": {},
   "outputs": [],
   "source": [
    "year_topic = pd.DataFrame({'year':df.year, 'topic':doc_topics[:, topic_idx]})"
   ]
  },
  {
   "cell_type": "code",
   "execution_count": 60,
   "metadata": {},
   "outputs": [
    {
     "data": {
      "text/html": [
       "<div>\n",
       "<style scoped>\n",
       "    .dataframe tbody tr th:only-of-type {\n",
       "        vertical-align: middle;\n",
       "    }\n",
       "\n",
       "    .dataframe tbody tr th {\n",
       "        vertical-align: top;\n",
       "    }\n",
       "\n",
       "    .dataframe thead th {\n",
       "        text-align: right;\n",
       "    }\n",
       "</style>\n",
       "<table border=\"1\" class=\"dataframe\">\n",
       "  <thead>\n",
       "    <tr style=\"text-align: right;\">\n",
       "      <th></th>\n",
       "      <th>topic</th>\n",
       "    </tr>\n",
       "    <tr>\n",
       "      <th>year</th>\n",
       "      <th></th>\n",
       "    </tr>\n",
       "  </thead>\n",
       "  <tbody>\n",
       "    <tr>\n",
       "      <th>2007</th>\n",
       "      <td>0.025189</td>\n",
       "    </tr>\n",
       "    <tr>\n",
       "      <th>2008</th>\n",
       "      <td>0.016155</td>\n",
       "    </tr>\n",
       "    <tr>\n",
       "      <th>2009</th>\n",
       "      <td>0.019187</td>\n",
       "    </tr>\n",
       "    <tr>\n",
       "      <th>2010</th>\n",
       "      <td>0.013317</td>\n",
       "    </tr>\n",
       "    <tr>\n",
       "      <th>2011</th>\n",
       "      <td>0.010558</td>\n",
       "    </tr>\n",
       "    <tr>\n",
       "      <th>2012</th>\n",
       "      <td>0.016707</td>\n",
       "    </tr>\n",
       "    <tr>\n",
       "      <th>2013</th>\n",
       "      <td>0.015346</td>\n",
       "    </tr>\n",
       "    <tr>\n",
       "      <th>2014</th>\n",
       "      <td>0.014001</td>\n",
       "    </tr>\n",
       "    <tr>\n",
       "      <th>2015</th>\n",
       "      <td>0.009028</td>\n",
       "    </tr>\n",
       "    <tr>\n",
       "      <th>2016</th>\n",
       "      <td>0.007839</td>\n",
       "    </tr>\n",
       "    <tr>\n",
       "      <th>2017</th>\n",
       "      <td>0.006863</td>\n",
       "    </tr>\n",
       "  </tbody>\n",
       "</table>\n",
       "</div>"
      ],
      "text/plain": [
       "         topic\n",
       "year          \n",
       "2007  0.025189\n",
       "2008  0.016155\n",
       "2009  0.019187\n",
       "2010  0.013317\n",
       "2011  0.010558\n",
       "2012  0.016707\n",
       "2013  0.015346\n",
       "2014  0.014001\n",
       "2015  0.009028\n",
       "2016  0.007839\n",
       "2017  0.006863"
      ]
     },
     "execution_count": 60,
     "metadata": {},
     "output_type": "execute_result"
    }
   ],
   "source": [
    "year_topic.groupby('year').agg('mean')"
   ]
  },
  {
   "cell_type": "code",
   "execution_count": null,
   "metadata": {},
   "outputs": [],
   "source": []
  },
  {
   "cell_type": "markdown",
   "metadata": {},
   "source": [
    "# NMF "
   ]
  },
  {
   "cell_type": "code",
   "execution_count": 61,
   "metadata": {
    "collapsed": true
   },
   "outputs": [
    {
     "name": "stderr",
     "output_type": "stream",
     "text": [
      "C:\\Users\\msi\\anaconda3\\lib\\site-packages\\sklearn\\decomposition\\_nmf.py:1077: ConvergenceWarning: Maximum number of iterations 200 reached. Increase it to improve convergence.\n",
      "  \" improve convergence.\" % max_iter, ConvergenceWarning)\n"
     ]
    }
   ],
   "source": [
    "from sklearn.decomposition import NMF\n",
    "nmf = NMF(n_components=89, random_state=1234)\n",
    "doc_topics = nmf.fit_transform(x)"
   ]
  },
  {
   "cell_type": "code",
   "execution_count": 62,
   "metadata": {},
   "outputs": [],
   "source": [
    "loading = nmf.components_"
   ]
  },
  {
   "cell_type": "code",
   "execution_count": 64,
   "metadata": {},
   "outputs": [],
   "source": [
    "word_idx = words.index('topic')"
   ]
  },
  {
   "cell_type": "code",
   "execution_count": 67,
   "metadata": {},
   "outputs": [
    {
     "data": {
      "image/png": "[encoded data removed]",
      "text/plain": [
       "<Figure size 432x288 with 1 Axes>"
      ]
     },
     "metadata": {
      "needs_background": "light"
     },
     "output_type": "display_data"
    }
   ],
   "source": [
    "# NMF는 rotation 을 따로 안해줘도 됨 \n",
    "plt.plot(loading[:,word_idx]);"
   ]
  },
  {
   "cell_type": "code",
   "execution_count": 69,
   "metadata": {},
   "outputs": [],
   "source": [
    "topic_idx = loading[:,word_idx].argmax()"
   ]
  },
  {
   "cell_type": "code",
   "execution_count": 71,
   "metadata": {},
   "outputs": [
    {
     "data": {
      "text/html": [
       "<div>\n",
       "<style scoped>\n",
       "    .dataframe tbody tr th:only-of-type {\n",
       "        vertical-align: middle;\n",
       "    }\n",
       "\n",
       "    .dataframe tbody tr th {\n",
       "        vertical-align: top;\n",
       "    }\n",
       "\n",
       "    .dataframe thead th {\n",
       "        text-align: right;\n",
       "    }\n",
       "</style>\n",
       "<table border=\"1\" class=\"dataframe\">\n",
       "  <thead>\n",
       "    <tr style=\"text-align: right;\">\n",
       "      <th></th>\n",
       "      <th>word</th>\n",
       "      <th>loading</th>\n",
       "    </tr>\n",
       "  </thead>\n",
       "  <tbody>\n",
       "    <tr>\n",
       "      <th>520</th>\n",
       "      <td>dirichlet</td>\n",
       "      <td>1.626153</td>\n",
       "    </tr>\n",
       "    <tr>\n",
       "      <th>541</th>\n",
       "      <td>documents</td>\n",
       "      <td>1.919543</td>\n",
       "    </tr>\n",
       "    <tr>\n",
       "      <th>1003</th>\n",
       "      <td>lda</td>\n",
       "      <td>2.077631</td>\n",
       "    </tr>\n",
       "    <tr>\n",
       "      <th>1862</th>\n",
       "      <td>topics</td>\n",
       "      <td>2.810796</td>\n",
       "    </tr>\n",
       "    <tr>\n",
       "      <th>1861</th>\n",
       "      <td>topic</td>\n",
       "      <td>5.789769</td>\n",
       "    </tr>\n",
       "  </tbody>\n",
       "</table>\n",
       "</div>"
      ],
      "text/plain": [
       "           word   loading\n",
       "520   dirichlet  1.626153\n",
       "541   documents  1.919543\n",
       "1003        lda  2.077631\n",
       "1862     topics  2.810796\n",
       "1861      topic  5.789769"
      ]
     },
     "execution_count": 71,
     "metadata": {},
     "output_type": "execute_result"
    }
   ],
   "source": [
    "topic = pd.DataFrame({'word':words, 'loading': loading[topic_idx]})\n",
    "topic.sort_values('loading').tail()"
   ]
  },
  {
   "cell_type": "code",
   "execution_count": 72,
   "metadata": {},
   "outputs": [
    {
     "data": {
      "text/html": [
       "<div>\n",
       "<style scoped>\n",
       "    .dataframe tbody tr th:only-of-type {\n",
       "        vertical-align: middle;\n",
       "    }\n",
       "\n",
       "    .dataframe tbody tr th {\n",
       "        vertical-align: top;\n",
       "    }\n",
       "\n",
       "    .dataframe thead th {\n",
       "        text-align: right;\n",
       "    }\n",
       "</style>\n",
       "<table border=\"1\" class=\"dataframe\">\n",
       "  <thead>\n",
       "    <tr style=\"text-align: right;\">\n",
       "      <th></th>\n",
       "      <th>topic</th>\n",
       "    </tr>\n",
       "    <tr>\n",
       "      <th>year</th>\n",
       "      <th></th>\n",
       "    </tr>\n",
       "  </thead>\n",
       "  <tbody>\n",
       "    <tr>\n",
       "      <th>2007</th>\n",
       "      <td>0.002231</td>\n",
       "    </tr>\n",
       "    <tr>\n",
       "      <th>2008</th>\n",
       "      <td>0.001294</td>\n",
       "    </tr>\n",
       "    <tr>\n",
       "      <th>2009</th>\n",
       "      <td>0.001785</td>\n",
       "    </tr>\n",
       "    <tr>\n",
       "      <th>2010</th>\n",
       "      <td>0.001217</td>\n",
       "    </tr>\n",
       "    <tr>\n",
       "      <th>2011</th>\n",
       "      <td>0.001194</td>\n",
       "    </tr>\n",
       "    <tr>\n",
       "      <th>2012</th>\n",
       "      <td>0.001699</td>\n",
       "    </tr>\n",
       "    <tr>\n",
       "      <th>2013</th>\n",
       "      <td>0.001276</td>\n",
       "    </tr>\n",
       "    <tr>\n",
       "      <th>2014</th>\n",
       "      <td>0.001205</td>\n",
       "    </tr>\n",
       "    <tr>\n",
       "      <th>2015</th>\n",
       "      <td>0.000814</td>\n",
       "    </tr>\n",
       "    <tr>\n",
       "      <th>2016</th>\n",
       "      <td>0.000649</td>\n",
       "    </tr>\n",
       "    <tr>\n",
       "      <th>2017</th>\n",
       "      <td>0.000375</td>\n",
       "    </tr>\n",
       "  </tbody>\n",
       "</table>\n",
       "</div>"
      ],
      "text/plain": [
       "         topic\n",
       "year          \n",
       "2007  0.002231\n",
       "2008  0.001294\n",
       "2009  0.001785\n",
       "2010  0.001217\n",
       "2011  0.001194\n",
       "2012  0.001699\n",
       "2013  0.001276\n",
       "2014  0.001205\n",
       "2015  0.000814\n",
       "2016  0.000649\n",
       "2017  0.000375"
      ]
     },
     "execution_count": 72,
     "metadata": {},
     "output_type": "execute_result"
    }
   ],
   "source": [
    "year_topic = pd.DataFrame({'year':df.year, 'topic':doc_topics[:, topic_idx]})\n",
    "year_topic.groupby('year').agg('mean')"
   ]
  },
  {
   "cell_type": "markdown",
   "metadata": {},
   "source": [
    "# NMF 가 깔끔함 svd 보다는 NMF 로 하는 것을 추천 "
   ]
  },
  {
   "cell_type": "code",
   "execution_count": null,
   "metadata": {},
   "outputs": [],
   "source": []
  }
 ],
 "metadata": {
  "kernelspec": {
   "display_name": "Python 3",
   "language": "python",
   "name": "python3"
  },
  "language_info": {
   "codemirror_mode": {
    "name": "ipython",
    "version": 3
   },
   "file_extension": ".py",
   "mimetype": "text/x-python",
   "name": "python",
   "nbconvert_exporter": "python",
   "pygments_lexer": "ipython3",
   "version": "3.7.9"
  },
  "toc": {
   "base_numbering": 1,
   "nav_menu": {},
   "number_sections": true,
   "sideBar": true,
   "skip_h1_title": false,
   "title_cell": "Table of Contents",
   "title_sidebar": "Contents",
   "toc_cell": false,
   "toc_position": {},
   "toc_section_display": true,
   "toc_window_display": false
  },
  "varInspector": {
   "cols": {
    "lenName": 16,
    "lenType": 16,
    "lenVar": 40
   },
   "kernels_config": {
    "python": {
     "delete_cmd_postfix": "",
     "delete_cmd_prefix": "del ",
     "library": "var_list.py",
     "varRefreshCmd": "print(var_dic_list())"
    },
    "r": {
     "delete_cmd_postfix": ") ",
     "delete_cmd_prefix": "rm(",
     "library": "var_list.r",
     "varRefreshCmd": "cat(var_dic_list()) "
    }
   },
   "types_to_exclude": [
    "module",
    "function",
    "builtin_function_or_method",
    "instance",
    "_Feature"
   ],
   "window_display": false
  }
 },
 "nbformat": 4,
 "nbformat_minor": 4
}
