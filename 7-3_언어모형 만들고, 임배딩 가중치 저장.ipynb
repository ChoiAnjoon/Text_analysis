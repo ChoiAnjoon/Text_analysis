{
 "cells": [
  {
   "cell_type": "code",
   "execution_count": 1,
   "metadata": {},
   "outputs": [],
   "source": [
    "# 앞서 저장해놓은 데이터 불러오기 \n",
    "import joblib \n",
    "tk = joblib.load('tokenizer.pkl')\n",
    "xs, ys = joblib.load('Im-data.pkl')"
   ]
  },
  {
   "cell_type": "code",
   "execution_count": 2,
   "metadata": {},
   "outputs": [],
   "source": [
    "import tensorflow as tf "
   ]
  },
  {
   "cell_type": "code",
   "execution_count": 3,
   "metadata": {},
   "outputs": [],
   "source": [
    "# padding 시 길이를 맞추기 위해 0이 들어감으로 +1을 해줘야함 \n",
    "NUM_WORD = tk.num_words + 1"
   ]
  },
  {
   "cell_type": "code",
   "execution_count": 4,
   "metadata": {},
   "outputs": [],
   "source": [
    "emb1 = tf.keras.layers.Embedding(NUM_WORD, 8)\n",
    "lm = tf.keras.Sequential([\n",
    "    emb1,\n",
    "    tf.keras.layers.GlobalAveragePooling1D(),\n",
    "    tf.keras.layers.Dense(8, activation='relu'),\n",
    "    tf.keras.layers.Dense(NUM_WORD)\n",
    "])"
   ]
  },
  {
   "cell_type": "code",
   "execution_count": 5,
   "metadata": {},
   "outputs": [
    {
     "name": "stdout",
     "output_type": "stream",
     "text": [
      "Model: \"sequential\"\n",
      "_________________________________________________________________\n",
      "Layer (type)                 Output Shape              Param #   \n",
      "=================================================================\n",
      "embedding (Embedding)        (None, None, 8)           16008     \n",
      "_________________________________________________________________\n",
      "global_average_pooling1d (Gl (None, 8)                 0         \n",
      "_________________________________________________________________\n",
      "dense (Dense)                (None, 8)                 72        \n",
      "_________________________________________________________________\n",
      "dense_1 (Dense)              (None, 2001)              18009     \n",
      "=================================================================\n",
      "Total params: 34,089\n",
      "Trainable params: 34,089\n",
      "Non-trainable params: 0\n",
      "_________________________________________________________________\n"
     ]
    }
   ],
   "source": [
    "lm.summary()"
   ]
  },
  {
   "cell_type": "code",
   "execution_count": 6,
   "metadata": {},
   "outputs": [],
   "source": [
    "# 위 모델에서 마지막층에 softmax를 지정해주지 않았기 때문에 너가 softmax를 지정해서 해라 \n",
    "lm.compile(loss=tf.keras.losses.SparseCategoricalCrossentropy(from_logits=True),\n",
    "          optimizer='adam',\n",
    "          metrics=['accuracy'])"
   ]
  },
  {
   "cell_type": "code",
   "execution_count": 7,
   "metadata": {},
   "outputs": [
    {
     "name": "stdout",
     "output_type": "stream",
     "text": [
      "331/331 [==============================] - 0s 1ms/step - loss: 6.8345 - accuracy: 0.0855\n"
     ]
    },
    {
     "data": {
      "text/plain": [
       "<tensorflow.python.keras.callbacks.History at 0x16e6cd14e08>"
      ]
     },
     "execution_count": 7,
     "metadata": {},
     "output_type": "execute_result"
    }
   ],
   "source": [
    "lm.fit(xs, ys, epochs=1)"
   ]
  },
  {
   "cell_type": "code",
   "execution_count": 18,
   "metadata": {},
   "outputs": [
    {
     "name": "stdout",
     "output_type": "stream",
     "text": [
      "INFO:tensorflow:Assets written to: lm.krs\\assets\n"
     ]
    }
   ],
   "source": [
    "lm.save('lm.krs')"
   ]
  },
  {
   "cell_type": "code",
   "execution_count": 8,
   "metadata": {},
   "outputs": [],
   "source": [
    "# 각 단어마다 임배딩된 가중치 뽑아내기 \n",
    "e = emb1.embeddings.numpy()"
   ]
  },
  {
   "cell_type": "code",
   "execution_count": 9,
   "metadata": {},
   "outputs": [
    {
     "data": {
      "text/plain": [
       "array([[-1.1373151e-02, -1.7229237e-02,  2.6770387e-02, ...,\n",
       "         3.3860866e-02, -2.6928341e-02, -4.1893832e-03],\n",
       "       [-3.2359004e-01,  3.7504098e-01, -3.5376418e-01, ...,\n",
       "        -3.5844690e-01, -3.4970707e-01, -3.6107150e-01],\n",
       "       [-3.7775823e-01,  2.7817586e-01, -3.0898097e-01, ...,\n",
       "        -3.2194078e-01, -3.4206164e-01, -2.9082528e-01],\n",
       "       ...,\n",
       "       [-1.7133202e-02,  5.3317398e-02, -1.7587679e-02, ...,\n",
       "         1.8634712e-02, -7.2970882e-04, -3.1927627e-02],\n",
       "       [-1.4605530e-02,  6.4230822e-02, -7.1551763e-02, ...,\n",
       "        -1.3523963e-02, -2.3572671e-04, -2.9528910e-02],\n",
       "       [-6.0259216e-03, -3.0688215e-02,  4.4484735e-03, ...,\n",
       "         2.4091601e-03,  3.4332920e-02, -3.8394891e-02]], dtype=float32)"
      ]
     },
     "execution_count": 9,
     "metadata": {},
     "output_type": "execute_result"
    }
   ],
   "source": [
    "e"
   ]
  },
  {
   "cell_type": "code",
   "execution_count": 10,
   "metadata": {},
   "outputs": [
    {
     "data": {
      "text/plain": [
       "(2001, 8)"
      ]
     },
     "execution_count": 10,
     "metadata": {},
     "output_type": "execute_result"
    }
   ],
   "source": [
    "e.shape"
   ]
  },
  {
   "cell_type": "code",
   "execution_count": 13,
   "metadata": {},
   "outputs": [
    {
     "data": {
      "text/html": [
       "<div>\n",
       "<style scoped>\n",
       "    .dataframe tbody tr th:only-of-type {\n",
       "        vertical-align: middle;\n",
       "    }\n",
       "\n",
       "    .dataframe tbody tr th {\n",
       "        vertical-align: top;\n",
       "    }\n",
       "\n",
       "    .dataframe thead th {\n",
       "        text-align: right;\n",
       "    }\n",
       "</style>\n",
       "<table border=\"1\" class=\"dataframe\">\n",
       "  <thead>\n",
       "    <tr style=\"text-align: right;\">\n",
       "      <th></th>\n",
       "      <th>0</th>\n",
       "      <th>1</th>\n",
       "      <th>2</th>\n",
       "      <th>3</th>\n",
       "      <th>4</th>\n",
       "      <th>5</th>\n",
       "      <th>6</th>\n",
       "      <th>7</th>\n",
       "    </tr>\n",
       "  </thead>\n",
       "  <tbody>\n",
       "    <tr>\n",
       "      <th>0</th>\n",
       "      <td>-0.011373</td>\n",
       "      <td>-0.017229</td>\n",
       "      <td>0.026770</td>\n",
       "      <td>0.020647</td>\n",
       "      <td>0.027772</td>\n",
       "      <td>0.033861</td>\n",
       "      <td>-0.026928</td>\n",
       "      <td>-0.004189</td>\n",
       "    </tr>\n",
       "    <tr>\n",
       "      <th>1</th>\n",
       "      <td>-0.323590</td>\n",
       "      <td>0.375041</td>\n",
       "      <td>-0.353764</td>\n",
       "      <td>-0.396250</td>\n",
       "      <td>-0.371020</td>\n",
       "      <td>-0.358447</td>\n",
       "      <td>-0.349707</td>\n",
       "      <td>-0.361071</td>\n",
       "    </tr>\n",
       "    <tr>\n",
       "      <th>2</th>\n",
       "      <td>-0.377758</td>\n",
       "      <td>0.278176</td>\n",
       "      <td>-0.308981</td>\n",
       "      <td>-0.330008</td>\n",
       "      <td>-0.285581</td>\n",
       "      <td>-0.321941</td>\n",
       "      <td>-0.342062</td>\n",
       "      <td>-0.290825</td>\n",
       "    </tr>\n",
       "    <tr>\n",
       "      <th>3</th>\n",
       "      <td>-0.260480</td>\n",
       "      <td>0.303689</td>\n",
       "      <td>-0.336651</td>\n",
       "      <td>-0.309811</td>\n",
       "      <td>-0.257016</td>\n",
       "      <td>-0.332278</td>\n",
       "      <td>-0.305837</td>\n",
       "      <td>-0.327077</td>\n",
       "    </tr>\n",
       "    <tr>\n",
       "      <th>4</th>\n",
       "      <td>-0.271880</td>\n",
       "      <td>0.248783</td>\n",
       "      <td>-0.275293</td>\n",
       "      <td>-0.227506</td>\n",
       "      <td>-0.268566</td>\n",
       "      <td>-0.336588</td>\n",
       "      <td>-0.329116</td>\n",
       "      <td>-0.295599</td>\n",
       "    </tr>\n",
       "    <tr>\n",
       "      <th>...</th>\n",
       "      <td>...</td>\n",
       "      <td>...</td>\n",
       "      <td>...</td>\n",
       "      <td>...</td>\n",
       "      <td>...</td>\n",
       "      <td>...</td>\n",
       "      <td>...</td>\n",
       "      <td>...</td>\n",
       "    </tr>\n",
       "    <tr>\n",
       "      <th>1996</th>\n",
       "      <td>-0.060670</td>\n",
       "      <td>0.041595</td>\n",
       "      <td>-0.055225</td>\n",
       "      <td>-0.022057</td>\n",
       "      <td>0.022843</td>\n",
       "      <td>-0.065610</td>\n",
       "      <td>-0.057935</td>\n",
       "      <td>-0.068505</td>\n",
       "    </tr>\n",
       "    <tr>\n",
       "      <th>1997</th>\n",
       "      <td>0.005306</td>\n",
       "      <td>-0.023956</td>\n",
       "      <td>0.041421</td>\n",
       "      <td>-0.028890</td>\n",
       "      <td>0.011541</td>\n",
       "      <td>0.003380</td>\n",
       "      <td>-0.070174</td>\n",
       "      <td>0.011634</td>\n",
       "    </tr>\n",
       "    <tr>\n",
       "      <th>1998</th>\n",
       "      <td>-0.017133</td>\n",
       "      <td>0.053317</td>\n",
       "      <td>-0.017588</td>\n",
       "      <td>-0.041229</td>\n",
       "      <td>-0.080367</td>\n",
       "      <td>0.018635</td>\n",
       "      <td>-0.000730</td>\n",
       "      <td>-0.031928</td>\n",
       "    </tr>\n",
       "    <tr>\n",
       "      <th>1999</th>\n",
       "      <td>-0.014606</td>\n",
       "      <td>0.064231</td>\n",
       "      <td>-0.071552</td>\n",
       "      <td>-0.012588</td>\n",
       "      <td>-0.011700</td>\n",
       "      <td>-0.013524</td>\n",
       "      <td>-0.000236</td>\n",
       "      <td>-0.029529</td>\n",
       "    </tr>\n",
       "    <tr>\n",
       "      <th>2000</th>\n",
       "      <td>-0.006026</td>\n",
       "      <td>-0.030688</td>\n",
       "      <td>0.004448</td>\n",
       "      <td>0.018903</td>\n",
       "      <td>0.020791</td>\n",
       "      <td>0.002409</td>\n",
       "      <td>0.034333</td>\n",
       "      <td>-0.038395</td>\n",
       "    </tr>\n",
       "  </tbody>\n",
       "</table>\n",
       "<p>2001 rows × 8 columns</p>\n",
       "</div>"
      ],
      "text/plain": [
       "             0         1         2         3         4         5         6  \\\n",
       "0    -0.011373 -0.017229  0.026770  0.020647  0.027772  0.033861 -0.026928   \n",
       "1    -0.323590  0.375041 -0.353764 -0.396250 -0.371020 -0.358447 -0.349707   \n",
       "2    -0.377758  0.278176 -0.308981 -0.330008 -0.285581 -0.321941 -0.342062   \n",
       "3    -0.260480  0.303689 -0.336651 -0.309811 -0.257016 -0.332278 -0.305837   \n",
       "4    -0.271880  0.248783 -0.275293 -0.227506 -0.268566 -0.336588 -0.329116   \n",
       "...        ...       ...       ...       ...       ...       ...       ...   \n",
       "1996 -0.060670  0.041595 -0.055225 -0.022057  0.022843 -0.065610 -0.057935   \n",
       "1997  0.005306 -0.023956  0.041421 -0.028890  0.011541  0.003380 -0.070174   \n",
       "1998 -0.017133  0.053317 -0.017588 -0.041229 -0.080367  0.018635 -0.000730   \n",
       "1999 -0.014606  0.064231 -0.071552 -0.012588 -0.011700 -0.013524 -0.000236   \n",
       "2000 -0.006026 -0.030688  0.004448  0.018903  0.020791  0.002409  0.034333   \n",
       "\n",
       "             7  \n",
       "0    -0.004189  \n",
       "1    -0.361071  \n",
       "2    -0.290825  \n",
       "3    -0.327077  \n",
       "4    -0.295599  \n",
       "...        ...  \n",
       "1996 -0.068505  \n",
       "1997  0.011634  \n",
       "1998 -0.031928  \n",
       "1999 -0.029529  \n",
       "2000 -0.038395  \n",
       "\n",
       "[2001 rows x 8 columns]"
      ]
     },
     "execution_count": 13,
     "metadata": {},
     "output_type": "execute_result"
    }
   ],
   "source": [
    "import pandas as pd \n",
    "pd.DataFrame(e)"
   ]
  },
  {
   "cell_type": "code",
   "execution_count": 11,
   "metadata": {},
   "outputs": [
    {
     "data": {
      "text/plain": [
       "array([[-1.1373151e-02, -1.7229237e-02,  2.6770387e-02, ...,\n",
       "         3.3860866e-02, -2.6928341e-02, -4.1893832e-03],\n",
       "       [-3.2359004e-01,  3.7504098e-01, -3.5376418e-01, ...,\n",
       "        -3.5844690e-01, -3.4970707e-01, -3.6107150e-01],\n",
       "       [-3.7775823e-01,  2.7817586e-01, -3.0898097e-01, ...,\n",
       "        -3.2194078e-01, -3.4206164e-01, -2.9082528e-01],\n",
       "       ...,\n",
       "       [-1.7133202e-02,  5.3317398e-02, -1.7587679e-02, ...,\n",
       "         1.8634712e-02, -7.2970882e-04, -3.1927627e-02],\n",
       "       [-1.4605530e-02,  6.4230822e-02, -7.1551763e-02, ...,\n",
       "        -1.3523963e-02, -2.3572671e-04, -2.9528910e-02],\n",
       "       [-6.0259216e-03, -3.0688215e-02,  4.4484735e-03, ...,\n",
       "         2.4091601e-03,  3.4332920e-02, -3.8394891e-02]], dtype=float32)"
      ]
     },
     "execution_count": 11,
     "metadata": {},
     "output_type": "execute_result"
    }
   ],
   "source": [
    "import numpy as np \n",
    "emb1.get_weights()[0]"
   ]
  },
  {
   "cell_type": "code",
   "execution_count": 28,
   "metadata": {},
   "outputs": [],
   "source": [
    "w = emb1.get_weights()[0]"
   ]
  },
  {
   "cell_type": "code",
   "execution_count": 29,
   "metadata": {},
   "outputs": [
    {
     "data": {
      "text/plain": [
       "True"
      ]
     },
     "execution_count": 29,
     "metadata": {},
     "output_type": "execute_result"
    }
   ],
   "source": [
    "np.array_equal(e, w) # 두배열이 같은지 확인 "
   ]
  },
  {
   "cell_type": "code",
   "execution_count": 30,
   "metadata": {},
   "outputs": [],
   "source": [
    "# 압축하지 않고 numpy array 저장 \n",
    "np.savez('word-emb.npz', emb=e)"
   ]
  },
  {
   "cell_type": "code",
   "execution_count": null,
   "metadata": {},
   "outputs": [],
   "source": []
  }
 ],
 "metadata": {
  "kernelspec": {
   "display_name": "Python 3",
   "language": "python",
   "name": "python3"
  },
  "language_info": {
   "codemirror_mode": {
    "name": "ipython",
    "version": 3
   },
   "file_extension": ".py",
   "mimetype": "text/x-python",
   "name": "python",
   "nbconvert_exporter": "python",
   "pygments_lexer": "ipython3",
   "version": "3.7.9"
  },
  "toc": {
   "base_numbering": 1,
   "nav_menu": {},
   "number_sections": true,
   "sideBar": true,
   "skip_h1_title": false,
   "title_cell": "Table of Contents",
   "title_sidebar": "Contents",
   "toc_cell": false,
   "toc_position": {},
   "toc_section_display": true,
   "toc_window_display": false
  },
  "varInspector": {
   "cols": {
    "lenName": 16,
    "lenType": 16,
    "lenVar": 40
   },
   "kernels_config": {
    "python": {
     "delete_cmd_postfix": "",
     "delete_cmd_prefix": "del ",
     "library": "var_list.py",
     "varRefreshCmd": "print(var_dic_list())"
    },
    "r": {
     "delete_cmd_postfix": ") ",
     "delete_cmd_prefix": "rm(",
     "library": "var_list.r",
     "varRefreshCmd": "cat(var_dic_list()) "
    }
   },
   "types_to_exclude": [
    "module",
    "function",
    "builtin_function_or_method",
    "instance",
    "_Feature"
   ],
   "window_display": false
  }
 },
 "nbformat": 4,
 "nbformat_minor": 4
}
